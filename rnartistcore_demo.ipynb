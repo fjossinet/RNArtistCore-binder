{
 "cells": [
  {
   "cell_type": "markdown",
   "metadata": {},
   "source": [
    "# RNArtistCore demo\n",
    "\n",
    "-----\n",
    "\n",
    "<div class=\"alert alert-block alert-warning\">\n",
    "<p>If you haven't used one of these notebooks before, they're basically web pages in which you can write, edit, and run live code. They're meant to encourage experimentation, so don't feel nervous. Just try running a few cells and see what happens!.</p>\n",
    "\n",
    "<p>\n",
    "    Some tips:\n",
    "    <ul>\n",
    "        <li>Code cells have boxes around them. When you hover over them an <i class=\"fa-step-forward fa\"></i> icon appears.</li>\n",
    "        <li>To run a code cell either click the <i class=\"fa-step-forward fa\"></i> icon, or click on the cell and then hit <b>Shift+Enter</b>. The <b>Shift+Enter</b> combo will also move you to the next cell, so it's a quick way to work through the notebook.</li>\n",
    "        <li>While a cell is running a <b>*</b> appears in the square brackets next to the cell. Once the cell has finished running the asterix will be replaced with a number.</li>\n",
    "        <li>In most cases you'll want to start from the top of notebook and work your way down running each cell in turn. Later cells might depend on the results of earlier ones.</li>\n",
    "        <li>To edit a code cell, just click on it and type stuff. Remember to run the cell once you've finished editing.</li>\n",
    "    </ul>\n",
    "</p>\n",
    "</div>\n",
    "\n",
    "----\n",
    "\n",
    "#### Your environment\n",
    "\n",
    "* [RNArtistCore](https://github.com/fjossinet/RNArtistCore) is installed and configured in the directory ~/RNArtistCore\n",
    "* The [RNAVIEW](http://ndbserver.rutgers.edu/ndbmodule/services/download/rnaview.html) algorithm is installed and configured in the directory ~/RNAVIEW"
   ]
  },
  {
   "cell_type": "code",
   "execution_count": null,
   "metadata": {},
   "outputs": [],
   "source": [
    "# first we create a directory to store the scripts and output files\n",
    "%mkdir binder_tests"
   ]
  },
  {
   "cell_type": "markdown",
   "metadata": {},
   "source": [
    "### RNA 2D described from scratch in the script file"
   ]
  },
  {
   "cell_type": "code",
   "execution_count": null,
   "metadata": {},
   "outputs": [],
   "source": [
    "s = '''rnartist {\n",
    "  file = \"binder_tests/demo1.svg\"\n",
    "  ss {\n",
    "    rna {\n",
    "      sequence = \"CAACAUCAUACGUACUGCGCCCAAGCGUAACGCGAACACCACGAGUGGUGACUGGUGCUUG\"\n",
    "    }\n",
    "    bracket_notation =\n",
    "      \"(((..(((..(((..(((((....)))))..)))..(((((....)))))..)))...)))\"\n",
    "  }\n",
    "  theme {\n",
    "    details_lvl = 5\n",
    "\n",
    "    color {\n",
    "      type=\"A\"\n",
    "      value = \"#A0ECF5\"\n",
    "    }\n",
    "\n",
    "    color {\n",
    "      type=\"a\"\n",
    "      value = \"black\"\n",
    "    }\n",
    "\n",
    "    color {\n",
    "      type=\"U\"\n",
    "      value = \"#9157E5\"\n",
    "    }\n",
    "\n",
    "    color {\n",
    "      type=\"G\"\n",
    "      value = \"darkgreen\"\n",
    "    }\n",
    "\n",
    "    color {\n",
    "      type=\"C\"\n",
    "      value = \"#E557E5\"\n",
    "    }\n",
    "\n",
    "  }\n",
    "}\n",
    "'''"
   ]
  },
  {
   "cell_type": "code",
   "execution_count": null,
   "metadata": {},
   "outputs": [],
   "source": [
    "%store s >binder_tests/demo1.kts"
   ]
  },
  {
   "cell_type": "code",
   "execution_count": null,
   "metadata": {},
   "outputs": [],
   "source": [
    "# we ask rnartistcore to draw the 2D as described in the script file"
   ]
  },
  {
   "cell_type": "code",
   "execution_count": null,
   "metadata": {},
   "outputs": [],
   "source": [
    "%%bash\n",
    "java -jar RNArtistCore/target/rnartistcore_with-dependencies.jar binder_tests/demo1.kts"
   ]
  },
  {
   "cell_type": "code",
   "execution_count": 3,
   "metadata": {},
   "outputs": [
   ],
   "source": [
    "#we display the 2D saved in an SVG file\n",
    "from IPython.core.display import SVG #<-- this line only needs to be run once per notebook\n",
    "# the output file name is like: filename defined in the script + molecular chain name (default name is 'A'). \n",
    "SVG(filename='binder_tests/demo1_A.svg')"
   ]
  },
  {
   "cell_type": "markdown",
   "metadata": {},
   "source": [
    "### RNA 2D described in a vienna file"
   ]
  },
  {
   "cell_type": "code",
   "execution_count": 2,
   "metadata": {},
   "outputs": [],
   "source": [
    "s = '''rnartist {\n",
    "  file = \"binder_tests/demo2.svg\"\n",
    "  ss {\n",
    "      vienna {\n",
    "        file = \"RNArtistCore/samples/rna.vienna\"\n",
    "      }\n",
    "  }\n",
    "  theme {\n",
    "    details_lvl = 5\n",
    "\n",
    "    color {\n",
    "      type=\"A\"\n",
    "      value = \"#A0ECF5\"\n",
    "    }\n",
    "\n",
    "    color {\n",
    "      type=\"a\"\n",
    "      value = \"black\"\n",
    "    }\n",
    "\n",
    "    color {\n",
    "      type=\"U\"\n",
    "      value = \"#9157E5\"\n",
    "    }\n",
    "\n",
    "    color {\n",
    "      type=\"G\"\n",
    "      value = \"darkgreen\"\n",
    "    }\n",
    "\n",
    "    color {\n",
    "      type=\"C\"\n",
    "      value = \"#E557E5\"\n",
    "    }\n",
    "\n",
    "  }\n",
    "}\n",
    "'''"
   ]
  },
  {
   "cell_type": "code",
   "execution_count": null,
   "metadata": {},
   "outputs": [],
   "source": [
    "%store s >binder_tests/demo2.kts"
   ]
  },
  {
   "cell_type": "code",
   "execution_count": null,
   "metadata": {},
   "outputs": [],
   "source": [
    "%%bash\n",
    "java -jar RNArtistCore/target/rnartistcore_with-dependencies.jar binder_tests/demo2.kts"
   ]
  },
  {
   "cell_type": "code",
   "execution_count": null,
   "metadata": {},
   "outputs": [],
   "source": [
    "SVG(filename='binder_tests/demo2_A.svg')"
   ]
  },
  {
   "cell_type": "markdown",
   "metadata": {},
   "source": [
    "### RNA 2D inferred from a 3D structure described in a PDB file (PDBID: 1GID)"
   ]
  },
  {
   "cell_type": "code",
   "execution_count": null,
   "metadata": {},
   "outputs": [],
   "source": [
    "s = '''rnartist {\n",
    "  file = \"binder_tests/demo3.svg\"\n",
    "  ss {\n",
    "      pdb {\n",
    "        name = \"B\"\n",
    "        file = \"RNArtistCore/samples/1gid.pdb\"\n",
    "      }\n",
    "  }\n",
    "  theme {\n",
    "    details_lvl = 5\n",
    "\n",
    "    color {\n",
    "      type=\"A\"\n",
    "      value = \"#A0ECF5\"\n",
    "    }\n",
    "\n",
    "    color {\n",
    "      type=\"a\"\n",
    "      value = \"black\"\n",
    "    }\n",
    "\n",
    "    color {\n",
    "      type=\"U\"\n",
    "      value = \"#9157E5\"\n",
    "    }\n",
    "\n",
    "    color {\n",
    "      type=\"G\"\n",
    "      value = \"darkgreen\"\n",
    "    }\n",
    "\n",
    "    color {\n",
    "      type=\"C\"\n",
    "      value = \"#E557E5\"\n",
    "    }\n",
    "\n",
    "  }\n",
    "}\n",
    "'''"
   ]
  },
  {
   "cell_type": "code",
   "execution_count": 5,
   "metadata": {},
   "outputs": [
   ],
   "source": [
    "%store s >binder_tests/demo3.kts"
   ]
  },
  {
   "cell_type": "code",
   "execution_count": 4,
   "metadata": {},
   "outputs": [
   ],
   "source": [
    "%%bash\n",
    "java -jar RNArtistCore/target/rnartistcore_with-dependencies.jar binder_tests/demo3.kts"
   ]
  },
  {
   "cell_type": "code",
   "execution_count": null,
   "metadata": {},
   "outputs": [],
   "source": [
    "SVG(filename='binder_tests/demo3_B.svg')"
   ]
  }
 ],
 "metadata": {
  "kernelspec": {
   "display_name": "Python 3",
   "language": "python",
   "name": "python3"
  },
  "language_info": {
   "codemirror_mode": {
    "name": "ipython",
    "version": 3
   },
   "file_extension": ".py",
   "mimetype": "text/x-python",
   "name": "python",
   "nbconvert_exporter": "python",
   "pygments_lexer": "ipython3",
   "version": "3.8.5"
  }
 },
 "nbformat": 4,
 "nbformat_minor": 5
}
