{
 "cells": [
  {
   "cell_type": "markdown",
   "metadata": {},
   "source": [
    "# RNArtistCore demo\n",
    "\n",
    "-----\n",
    "\n",
    "<div class=\"alert alert-block alert-warning\">\n",
    "<p>If you haven't used one of these notebooks before, they're basically web pages in which you can write, edit, and run live code. They're meant to encourage experimentation, so don't feel nervous. Just try running a few cells and see what happens!.</p>\n",
    "\n",
    "<p>\n",
    "    Some tips:\n",
    "    <ul>\n",
    "        <li>Code cells have boxes around them. When you hover over them an <i class=\"fa-step-forward fa\"></i> icon appears.</li>\n",
    "        <li>To run a code cell either click the <i class=\"fa-step-forward fa\"></i> icon, or click on the cell and then hit <b>Shift+Enter</b>. The <b>Shift+Enter</b> combo will also move you to the next cell, so it's a quick way to work through the notebook.</li>\n",
    "        <li>While a cell is running a <b>*</b> appears in the square brackets next to the cell. Once the cell has finished running the asterix will be replaced with a number.</li>\n",
    "        <li>In most cases you'll want to start from the top of notebook and work your way down running each cell in turn. Later cells might depend on the results of earlier ones.</li>\n",
    "        <li>To edit a code cell, just click on it and type stuff. Remember to run the cell once you've finished editing.</li>\n",
    "    </ul>\n",
    "</p>\n",
    "</div>\n",
    "\n",
    "----\n",
    "\n",
    "#### Your environment\n",
    "\n",
    "[RNArtistCore](https://github.com/fjossinet/RNArtistCore) is installed and configured in the directory ~/RNArtistCore\n",
    "The [RNAVIEW](http://ndbserver.rutgers.edu/ndbmodule/services/download/rnaview.html) algorithm is installed and configured in the directory ~/RNAVIEW"
   ]
  },
  {
   "cell_type": "code",
   "execution_count": null,
   "metadata": {},
   "outputs": [],
   "source": [
    "%cd RNArtistCore/"
   ]
  },
  {
   "cell_type": "code",
   "execution_count": null,
   "metadata": {},
   "outputs": [],
   "source": [
    "ls"
   ]
  },
  {
   "cell_type": "code",
   "execution_count": null,
   "metadata": {},
   "outputs": [],
   "source": [
    "s = '''rnartist {\n",
    "  file = \"media/example.svg\"\n",
    "  ss {\n",
    "    rna {\n",
    "      sequence = \"CAACAUCAUACGUACUGCGCCCAAGCGUAACGCGAACACCACGAGUGGUGACUGGUGCUUG\"\n",
    "    }\n",
    "    bracket_notation =\n",
    "      \"(((..(((..(((..(((((....)))))..)))..(((((....)))))..)))...)))\"\n",
    "  }\n",
    "  theme {\n",
    "    details_lvl = 5\n",
    "\n",
    "    color {\n",
    "      type=\"A\"\n",
    "      value = \"#A0ECF5\"\n",
    "    }\n",
    "\n",
    "    color {\n",
    "      type=\"a\"\n",
    "      value = \"black\"\n",
    "    }\n",
    "\n",
    "    color {\n",
    "      type=\"U\"\n",
    "      value = \"#9157E5\"\n",
    "    }\n",
    "\n",
    "    color {\n",
    "      type=\"G\"\n",
    "      value = \"darkgreen\"\n",
    "    }\n",
    "\n",
    "    color {\n",
    "      type=\"C\"\n",
    "      value = \"#E557E5\"\n",
    "    }\n",
    "\n",
    "  }\n",
    "}\n",
    "'''"
   ]
  },
  {
   "cell_type": "code",
   "execution_count": null,
   "metadata": {},
   "outputs": [],
   "source": [
    "%store s >first_demo.kts"
   ]
  },
  {
   "cell_type": "code",
   "execution_count": null,
   "metadata": {},
   "outputs": [],
   "source": [
    "%%bash\n",
    "java -jar target/rnartistcore-0.2.7-SNAPSHOT-jar-with-dependencies.jar first_demo.kts"
   ]
  },
  {
   "cell_type": "markdown",
   "metadata": {},
   "source": [
    "That should have resulted in making the file `real_example.svg` in the `media` directory. Let's check we see it there."
   ]
  },
  {
   "cell_type": "code",
   "execution_count": null,
   "metadata": {},
   "outputs": [],
   "source": [
    "ls media"
   ]
  },
  {
   "cell_type": "markdown",
   "metadata": {},
   "source": [
    "Viewing the result:"
   ]
  },
  {
   "cell_type": "code",
   "execution_count": null,
   "metadata": {},
   "outputs": [],
   "source": [
    "from IPython.core.display import SVG #<-- this line only needs to be run once per notebook\n",
    "SVG(filename='media/example_A.svg')"
   ]
  },
  {
   "cell_type": "markdown",
   "metadata": {},
   "source": [
    "### First example currently in the documentation.\n",
    "\n",
    "This will run the script that currently is shown at the very top of the directions. This needs a PDB file that isn't present yet. That will be fetched first and then the rest of the process is much as above."
   ]
  },
  {
   "cell_type": "code",
   "execution_count": null,
   "metadata": {},
   "outputs": [],
   "source": [
    "!curl -OL https://files.rcsb.org/download/1ehz.pdb # see https://nbviewer.jupyter.org/github/fomightez/Python_basics_on_PDB_file/blob/master/index.ipynb for more information on that curl command\n",
    "!mv 1ehz.pdb media/."
   ]
  },
  {
   "cell_type": "code",
   "execution_count": null,
   "metadata": {},
   "outputs": [],
   "source": [
    "ls"
   ]
  },
  {
   "cell_type": "code",
   "execution_count": null,
   "metadata": {},
   "outputs": [],
   "source": [
    "z = '''import io.github.fjossinet.rnartist.core.*\n",
    "\n",
    "rnartist {\n",
    "    file = \"media/another_example.svg\"\n",
    "\n",
    "    ss {\n",
    "        pdb {\n",
    "            file = \"media/1ehz.pdb\"\n",
    "        }    \n",
    "    }\n",
    "    \n",
    "    theme {\n",
    "        details_lvl = 5\n",
    "\n",
    "        color {\n",
    "          type=\"A\"\n",
    "          value = \"#A0ECF5\"\n",
    "        }\n",
    "\n",
    "        color {\n",
    "          type=\"a\"\n",
    "          value = \"black\"\n",
    "        }\n",
    "\n",
    "        color {\n",
    "          type=\"U\"\n",
    "          value = \"#9157E5\"\n",
    "        }\n",
    "\n",
    "        color {\n",
    "          type=\"G\"\n",
    "          value = \"darkgreen\"\n",
    "        }\n",
    "\n",
    "        color {\n",
    "          type=\"C\"\n",
    "          value = \"#E557E5\"\n",
    "        }\n",
    "\n",
    "  }\n",
    "}\n",
    "'''"
   ]
  },
  {
   "cell_type": "code",
   "execution_count": null,
   "metadata": {},
   "outputs": [],
   "source": [
    "%store z >second_demo.kts"
   ]
  },
  {
   "cell_type": "code",
   "execution_count": null,
   "metadata": {},
   "outputs": [],
   "source": [
    "%%bash\n",
    "java -jar target/rnartistcore-0.2.7-SNAPSHOT-jar-with-dependencies.jar second_demo.kts"
   ]
  },
  {
   "cell_type": "markdown",
   "metadata": {},
   "source": [
    "View the two files that should have been made:"
   ]
  },
  {
   "cell_type": "code",
   "execution_count": null,
   "metadata": {},
   "outputs": [],
   "source": [
    "from IPython.core.display import SVG #<-- this line only needs to be run once per notebook\n",
    "SVG(filename='media/another_example_A.svg')"
   ]
  }
 ],
 "metadata": {
  "kernelspec": {
   "display_name": "Python 3",
   "language": "python",
   "name": "python3"
  },
  "language_info": {
   "codemirror_mode": {
    "name": "ipython",
    "version": 3
   },
   "file_extension": ".py",
   "mimetype": "text/x-python",
   "name": "python",
   "nbconvert_exporter": "python",
   "pygments_lexer": "ipython3",
   "version": "3.8.5"
  }
 },
 "nbformat": 4,
 "nbformat_minor": 5
}
