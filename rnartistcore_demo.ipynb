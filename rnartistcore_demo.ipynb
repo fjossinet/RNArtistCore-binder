{
 "cells": [
  {
   "cell_type": "markdown",
   "metadata": {},
   "source": [
    "# RNArtistCore demo\n",
    "\n",
    "-----\n",
    "\n",
    "<div class=\"alert alert-block alert-warning\">\n",
    "<p>If you haven't used one of these notebooks before, they're basically web pages in which you can write, edit, and run live code. They're meant to encourage experimentation, so don't feel nervous. Just try running a few cells and see what happens!.</p>\n",
    "\n",
    "<p>\n",
    "    Some tips:\n",
    "    <ul>\n",
    "        <li>Code cells have boxes around them. When you hover over them an <i class=\"fa-step-forward fa\"></i> icon appears.</li>\n",
    "        <li>To run a code cell either click the <i class=\"fa-step-forward fa\"></i> icon, or click on the cell and then hit <b>Shift+Enter</b>. The <b>Shift+Enter</b> combo will also move you to the next cell, so it's a quick way to work through the notebook.</li>\n",
    "        <li>While a cell is running a <b>*</b> appears in the square brackets next to the cell. Once the cell has finished running the asterix will be replaced with a number.</li>\n",
    "        <li>In most cases you'll want to start from the top of notebook and work your way down running each cell in turn. Later cells might depend on the results of earlier ones.</li>\n",
    "        <li>To edit a code cell, just click on it and type stuff. Remember to run the cell once you've finished editing.</li>\n",
    "    </ul>\n",
    "</p>\n",
    "</div>\n",
    "\n",
    "----\n",
    "\n",
    "#### Your environment\n",
    "\n",
    "* [RNArtistCore](https://github.com/fjossinet/RNArtistCore) is installed and configured in the directory ~/RNArtistCore\n",
    "* The [RNAVIEW](http://ndbserver.rutgers.edu/ndbmodule/services/download/rnaview.html) algorithm is installed and configured in the directory ~/RNAVIEW"
   ]
  },
  {
   "cell_type": "code",
   "execution_count": null,
   "metadata": {},
   "outputs": [],
   "source": [
    "# first we create a directory to store the scripts and output files\n",
    "%mkdir binder_tests"
   ]
  },
  {
   "cell_type": "markdown",
   "metadata": {},
   "source": [
    "### RNA 2D described from scratch in the script file"
   ]
  },
  {
   "cell_type": "code",
   "execution_count": null,
   "metadata": {},
   "outputs": [],
   "source": [
    "s = '''rnartist {\n",
    "  file = \"binder_tests/demo1.svg\"\n",
    "  ss {\n",
    "    rna {\n",
    "      sequence = \"CAACAUCAUACGUACUGCGCCCAAGCGUAACGCGAACACCACGAGUGGUGACUGGUGCUUG\"\n",
    "    }\n",
    "    bracket_notation =\n",
    "      \"(((..(((..(((..(((((....)))))..)))..(((((....)))))..)))...)))\"\n",
    "  }\n",
    "  theme {\n",
    "    details_lvl = 5\n",
    "\n",
    "    color {\n",
    "      type=\"A\"\n",
    "      value = \"#A0ECF5\"\n",
    "    }\n",
    "\n",
    "    color {\n",
    "      type=\"a\"\n",
    "      value = \"black\"\n",
    "    }\n",
    "\n",
    "    color {\n",
    "      type=\"U\"\n",
    "      value = \"#9157E5\"\n",
    "    }\n",
    "\n",
    "    color {\n",
    "      type=\"G\"\n",
    "      value = \"darkgreen\"\n",
    "    }\n",
    "\n",
    "    color {\n",
    "      type=\"C\"\n",
    "      value = \"#E557E5\"\n",
    "    }\n",
    "\n",
    "  }\n",
    "}\n",
    "'''"
   ]
  },
  {
   "cell_type": "code",
   "execution_count": null,
   "metadata": {},
   "outputs": [],
   "source": [
    "%store s >binder_tests/demo1.kts"
   ]
  },
  {
   "cell_type": "code",
   "execution_count": null,
   "metadata": {},
   "outputs": [],
   "source": [
    "# we ask rnartistcore to draw the 2D as described in the script file\n",
    "%%bash\n",
    "java -jar RNArtistCore/target/rnartistcore-0.2.7-SNAPSHOT-jar-with-dependencies.jar binder_tests/demo1.kts"
   ]
  },
  {
   "cell_type": "code",
   "execution_count": 3,
   "metadata": {},
   "outputs": [
    {
     "ename": "FileNotFoundError",
     "evalue": "[Errno 2] No such file or directory: 'binder_tests/demo1_A.svg'",
     "output_type": "error",
     "traceback": [
      "\u001b[0;31m---------------------------------------------------------------------------\u001b[0m",
      "\u001b[0;31mFileNotFoundError\u001b[0m                         Traceback (most recent call last)",
      "\u001b[0;32m<ipython-input-3-c8c5aceb1ca8>\u001b[0m in \u001b[0;36m<module>\u001b[0;34m\u001b[0m\n\u001b[1;32m      1\u001b[0m \u001b[0;32mfrom\u001b[0m \u001b[0mIPython\u001b[0m\u001b[0;34m.\u001b[0m\u001b[0mcore\u001b[0m\u001b[0;34m.\u001b[0m\u001b[0mdisplay\u001b[0m \u001b[0;32mimport\u001b[0m \u001b[0mSVG\u001b[0m \u001b[0;31m#<-- this line only needs to be run once per notebook\u001b[0m\u001b[0;34m\u001b[0m\u001b[0;34m\u001b[0m\u001b[0m\n\u001b[1;32m      2\u001b[0m \u001b[0;31m# the output file name is like: filename defined in the script + molecular chain name (default name is 'A').\u001b[0m\u001b[0;34m\u001b[0m\u001b[0;34m\u001b[0m\u001b[0;34m\u001b[0m\u001b[0m\n\u001b[0;32m----> 3\u001b[0;31m \u001b[0mSVG\u001b[0m\u001b[0;34m(\u001b[0m\u001b[0mfilename\u001b[0m\u001b[0;34m=\u001b[0m\u001b[0;34m'binder_tests/demo1_A.svg'\u001b[0m\u001b[0;34m)\u001b[0m\u001b[0;34m\u001b[0m\u001b[0;34m\u001b[0m\u001b[0m\n\u001b[0m",
      "\u001b[0;32m/Volumes/Playground/Tools/anaconda3/lib/python3.8/site-packages/IPython/core/display.py\u001b[0m in \u001b[0;36m__init__\u001b[0;34m(self, data, url, filename, metadata)\u001b[0m\n\u001b[1;32m    628\u001b[0m             \u001b[0mself\u001b[0m\u001b[0;34m.\u001b[0m\u001b[0mmetadata\u001b[0m \u001b[0;34m=\u001b[0m \u001b[0;34m{\u001b[0m\u001b[0;34m}\u001b[0m\u001b[0;34m\u001b[0m\u001b[0;34m\u001b[0m\u001b[0m\n\u001b[1;32m    629\u001b[0m \u001b[0;34m\u001b[0m\u001b[0m\n\u001b[0;32m--> 630\u001b[0;31m         \u001b[0mself\u001b[0m\u001b[0;34m.\u001b[0m\u001b[0mreload\u001b[0m\u001b[0;34m(\u001b[0m\u001b[0;34m)\u001b[0m\u001b[0;34m\u001b[0m\u001b[0;34m\u001b[0m\u001b[0m\n\u001b[0m\u001b[1;32m    631\u001b[0m         \u001b[0mself\u001b[0m\u001b[0;34m.\u001b[0m\u001b[0m_check_data\u001b[0m\u001b[0;34m(\u001b[0m\u001b[0;34m)\u001b[0m\u001b[0;34m\u001b[0m\u001b[0;34m\u001b[0m\u001b[0m\n\u001b[1;32m    632\u001b[0m \u001b[0;34m\u001b[0m\u001b[0m\n",
      "\u001b[0;32m/Volumes/Playground/Tools/anaconda3/lib/python3.8/site-packages/IPython/core/display.py\u001b[0m in \u001b[0;36mreload\u001b[0;34m(self)\u001b[0m\n\u001b[1;32m    653\u001b[0m         \u001b[0;34m\"\"\"Reload the raw data from file or URL.\"\"\"\u001b[0m\u001b[0;34m\u001b[0m\u001b[0;34m\u001b[0m\u001b[0m\n\u001b[1;32m    654\u001b[0m         \u001b[0;32mif\u001b[0m \u001b[0mself\u001b[0m\u001b[0;34m.\u001b[0m\u001b[0mfilename\u001b[0m \u001b[0;32mis\u001b[0m \u001b[0;32mnot\u001b[0m \u001b[0;32mNone\u001b[0m\u001b[0;34m:\u001b[0m\u001b[0;34m\u001b[0m\u001b[0;34m\u001b[0m\u001b[0m\n\u001b[0;32m--> 655\u001b[0;31m             \u001b[0;32mwith\u001b[0m \u001b[0mopen\u001b[0m\u001b[0;34m(\u001b[0m\u001b[0mself\u001b[0m\u001b[0;34m.\u001b[0m\u001b[0mfilename\u001b[0m\u001b[0;34m,\u001b[0m \u001b[0mself\u001b[0m\u001b[0;34m.\u001b[0m\u001b[0m_read_flags\u001b[0m\u001b[0;34m)\u001b[0m \u001b[0;32mas\u001b[0m \u001b[0mf\u001b[0m\u001b[0;34m:\u001b[0m\u001b[0;34m\u001b[0m\u001b[0;34m\u001b[0m\u001b[0m\n\u001b[0m\u001b[1;32m    656\u001b[0m                 \u001b[0mself\u001b[0m\u001b[0;34m.\u001b[0m\u001b[0mdata\u001b[0m \u001b[0;34m=\u001b[0m \u001b[0mf\u001b[0m\u001b[0;34m.\u001b[0m\u001b[0mread\u001b[0m\u001b[0;34m(\u001b[0m\u001b[0;34m)\u001b[0m\u001b[0;34m\u001b[0m\u001b[0;34m\u001b[0m\u001b[0m\n\u001b[1;32m    657\u001b[0m         \u001b[0;32melif\u001b[0m \u001b[0mself\u001b[0m\u001b[0;34m.\u001b[0m\u001b[0murl\u001b[0m \u001b[0;32mis\u001b[0m \u001b[0;32mnot\u001b[0m \u001b[0;32mNone\u001b[0m\u001b[0;34m:\u001b[0m\u001b[0;34m\u001b[0m\u001b[0;34m\u001b[0m\u001b[0m\n",
      "\u001b[0;31mFileNotFoundError\u001b[0m: [Errno 2] No such file or directory: 'binder_tests/demo1_A.svg'"
     ]
    }
   ],
   "source": [
    "#we display the 2D saved in an SVG file\n",
    "from IPython.core.display import SVG #<-- this line only needs to be run once per notebook\n",
    "# the output file name is like: filename defined in the script + molecular chain name (default name is 'A'). \n",
    "SVG(filename='binder_tests/demo1_A.svg')"
   ]
  },
  {
   "cell_type": "markdown",
   "metadata": {},
   "source": [
    "### RNA 2D described in a vienna file"
   ]
  },
  {
   "cell_type": "code",
   "execution_count": 2,
   "metadata": {},
   "outputs": [],
   "source": [
    "s = '''rnartist {\n",
    "  file = \"binder_tests/demo2.svg\"\n",
    "  ss {\n",
    "      vienna {\n",
    "        file = \"RNArtistCore/samples/rna.vienna\"\n",
    "      }\n",
    "  }\n",
    "  theme {\n",
    "    details_lvl = 5\n",
    "\n",
    "    color {\n",
    "      type=\"A\"\n",
    "      value = \"#A0ECF5\"\n",
    "    }\n",
    "\n",
    "    color {\n",
    "      type=\"a\"\n",
    "      value = \"black\"\n",
    "    }\n",
    "\n",
    "    color {\n",
    "      type=\"U\"\n",
    "      value = \"#9157E5\"\n",
    "    }\n",
    "\n",
    "    color {\n",
    "      type=\"G\"\n",
    "      value = \"darkgreen\"\n",
    "    }\n",
    "\n",
    "    color {\n",
    "      type=\"C\"\n",
    "      value = \"#E557E5\"\n",
    "    }\n",
    "\n",
    "  }\n",
    "}\n",
    "'''"
   ]
  },
  {
   "cell_type": "code",
   "execution_count": null,
   "metadata": {},
   "outputs": [],
   "source": [
    "%store s >binder_tests/demo2.kts"
   ]
  },
  {
   "cell_type": "code",
   "execution_count": null,
   "metadata": {},
   "outputs": [],
   "source": [
    "%%bash\n",
    "java -jar RNArtistCore/target/rnartistcore-0.2.7-SNAPSHOT-jar-with-dependencies.jar binder_tests/demo2.kts"
   ]
  },
  {
   "cell_type": "code",
   "execution_count": null,
   "metadata": {},
   "outputs": [],
   "source": [
    "SVG(filename='binder_tests/demo2_A.svg')"
   ]
  },
  {
   "cell_type": "markdown",
   "metadata": {},
   "source": [
    "### RNA 2D inferred from a 3D structure described in a PDB file"
   ]
  },
  {
   "cell_type": "code",
   "execution_count": null,
   "metadata": {},
   "outputs": [],
   "source": [
    "s = '''rnartist {\n",
    "  file = \"binder_tests/demo3.svg\"\n",
    "  ss {\n",
    "      pdb {\n",
    "        name = \"B\"\n",
    "        file = \"RNArtistCore/samples/1GID.pdb\"\n",
    "      }\n",
    "  }\n",
    "  theme {\n",
    "    details_lvl = 5\n",
    "\n",
    "    color {\n",
    "      type=\"A\"\n",
    "      value = \"#A0ECF5\"\n",
    "    }\n",
    "\n",
    "    color {\n",
    "      type=\"a\"\n",
    "      value = \"black\"\n",
    "    }\n",
    "\n",
    "    color {\n",
    "      type=\"U\"\n",
    "      value = \"#9157E5\"\n",
    "    }\n",
    "\n",
    "    color {\n",
    "      type=\"G\"\n",
    "      value = \"darkgreen\"\n",
    "    }\n",
    "\n",
    "    color {\n",
    "      type=\"C\"\n",
    "      value = \"#E557E5\"\n",
    "    }\n",
    "\n",
    "  }\n",
    "}\n",
    "'''"
   ]
  },
  {
   "cell_type": "code",
   "execution_count": null,
   "metadata": {},
   "outputs": [],
   "source": [
    "%store z >binder_tests/demo3.kts"
   ]
  },
  {
   "cell_type": "code",
   "execution_count": null,
   "metadata": {},
   "outputs": [],
   "source": [
    "%%bash\n",
    "java -jar target/rnartistcore-0.2.7-SNAPSHOT-jar-with-dependencies.jar binder_tests/demo3.kts"
   ]
  },
  {
   "cell_type": "code",
   "execution_count": null,
   "metadata": {},
   "outputs": [],
   "source": [
    "SVG(filename='binder_tests/demo3_A.svg')"
   ]
  }
 ],
 "metadata": {
  "kernelspec": {
   "display_name": "Python 3",
   "language": "python",
   "name": "python3"
  },
  "language_info": {
   "codemirror_mode": {
    "name": "ipython",
    "version": 3
   },
   "file_extension": ".py",
   "mimetype": "text/x-python",
   "name": "python",
   "nbconvert_exporter": "python",
   "pygments_lexer": "ipython3",
   "version": "3.8.5"
  }
 },
 "nbformat": 4,
 "nbformat_minor": 5
}
