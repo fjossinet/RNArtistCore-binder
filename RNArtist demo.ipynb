{
 "cells": [
  {
   "cell_type": "markdown",
   "metadata": {},
   "source": [
    "# RNArtist demo\n",
    "\n",
    "-----\n",
    "\n",
    "<div class=\"alert alert-block alert-warning\">\n",
    "<p>If you haven't used one of these notebooks before, they're basically web pages in which you can write, edit, and run live code. They're meant to encourage experimentation, so don't feel nervous. Just try running a few cells and see what happens!.</p>\n",
    "\n",
    "<p>\n",
    "    Some tips:\n",
    "    <ul>\n",
    "        <li>Code cells have boxes around them. When you hover over them an <i class=\"fa-step-forward fa\"></i> icon appears.</li>\n",
    "        <li>To run a code cell either click the <i class=\"fa-step-forward fa\"></i> icon, or click on the cell and then hit <b>Shift+Enter</b>. The <b>Shift+Enter</b> combo will also move you to the next cell, so it's a quick way to work through the notebook.</li>\n",
    "        <li>While a cell is running a <b>*</b> appears in the square brackets next to the cell. Once the cell has finished running the asterix will be replaced with a number.</li>\n",
    "        <li>In most cases you'll want to start from the top of notebook and work your way down running each cell in turn. Later cells might depend on the results of earlier ones.</li>\n",
    "        <li>To edit a code cell, just click on it and type stuff. Remember to run the cell once you've finished editing.</li>\n",
    "    </ul>\n",
    "</p>\n",
    "</div>\n",
    "\n",
    "----\n",
    "\n",
    "#### Example of first 'real_example' in documentation\n",
    "\n",
    "First example here takes an example from early in documentation that makes a vector graphics version of a file provided in th `media` directory.  \n",
    "\n",
    "First the notebook commands will switch to that directory.   \n",
    "Then they save a script there (`first_demo.kts`) and run it."
   ]
  },
  {
   "cell_type": "code",
   "execution_count": 1,
   "metadata": {},
   "outputs": [
    {
     "name": "stdout",
     "output_type": "stream",
     "text": [
      "/home/jovyan/RNArtistCore\n"
     ]
    }
   ],
   "source": [
    "%cd RNArtistCore/"
   ]
  },
  {
   "cell_type": "code",
   "execution_count": 2,
   "metadata": {},
   "outputs": [
    {
     "name": "stdout",
     "output_type": "stream",
     "text": [
      "Dockerfile  \u001b[0m\u001b[01;34mmedia\u001b[0m/   README.md               \u001b[01;34msamples\u001b[0m/  \u001b[01;34msrc\u001b[0m/     \u001b[01;34mtest\u001b[0m/\r\n",
      "LICENSE     pom.xml  rnartistcore_docker.sh  \u001b[01;34mscripts\u001b[0m/  \u001b[01;34mtarget\u001b[0m/\r\n"
     ]
    }
   ],
   "source": [
    "ls"
   ]
  },
  {
   "cell_type": "code",
   "execution_count": 3,
   "metadata": {},
   "outputs": [],
   "source": [
    "s = '''rnartist {\n",
    "  file = \"media/real_example.svg\"\n",
    "  ss {\n",
    "    rna {\n",
    "      sequence = \"CAACAUCAUACGUACUGCGCCCAAGCGUAACGCGAACACCACGAGUGGUGACUGGUGCUUG\"\n",
    "    }\n",
    "    bracket_notation =\n",
    "      \"(((..(((..(((..(((((....)))))..)))..(((((....)))))..)))...)))\"\n",
    "  }\n",
    "  theme {\n",
    "    details_lvl = 5\n",
    "\n",
    "    color {\n",
    "      type=\"A\"\n",
    "      value = \"#A0ECF5\"\n",
    "    }\n",
    "\n",
    "    color {\n",
    "      type=\"a\"\n",
    "      value = \"black\"\n",
    "    }\n",
    "\n",
    "    color {\n",
    "      type=\"U\"\n",
    "      value = \"#9157E5\"\n",
    "    }\n",
    "\n",
    "    color {\n",
    "      type=\"G\"\n",
    "      value = \"darkgreen\"\n",
    "    }\n",
    "\n",
    "    color {\n",
    "      type=\"C\"\n",
    "      value = \"#E557E5\"\n",
    "    }\n",
    "\n",
    "  }\n",
    "}\n",
    "'''"
   ]
  },
  {
   "cell_type": "code",
   "execution_count": 4,
   "metadata": {},
   "outputs": [
    {
     "name": "stdout",
     "output_type": "stream",
     "text": [
      "Writing 's' (str) to file 'first_demo.kts'.\n"
     ]
    }
   ],
   "source": [
    "%store s >first_demo.kts"
   ]
  },
  {
   "cell_type": "code",
   "execution_count": 5,
   "metadata": {},
   "outputs": [
    {
     "name": "stderr",
     "output_type": "stream",
     "text": [
      "WARNING: An illegal reflective access operation has occurred\n",
      "WARNING: Illegal reflective access by org.jetbrains.kotlin.com.intellij.util.ReflectionUtil (file:/home/jovyan/RNArtistCore/target/rnartistcore-0.2.7-SNAPSHOT-jar-with-dependencies.jar) to method java.util.ResourceBundle.setParent(java.util.ResourceBundle)\n",
      "WARNING: Please consider reporting this to the maintainers of org.jetbrains.kotlin.com.intellij.util.ReflectionUtil\n",
      "WARNING: Use --illegal-access=warn to enable warnings of further illegal reflective access operations\n",
      "WARNING: All illegal access operations will be denied in a future release\n"
     ]
    }
   ],
   "source": [
    "%%bash\n",
    "java -jar target/rnartistcore-0.2.7-SNAPSHOT-jar-with-dependencies.jar first_demo.kts"
   ]
  },
  {
   "cell_type": "markdown",
   "metadata": {},
   "source": [
    "That should have resulted in making the file `real_example.svg` in the `media` directory. Let's check we see it there."
   ]
  },
  {
   "cell_type": "code",
   "execution_count": 6,
   "metadata": {},
   "outputs": [
    {
     "name": "stdout",
     "output_type": "stream",
     "text": [
      "3way_1_A.png                            details_lvl5_colored_A.png\r\n",
      "3way_2_A.png                            gradient_A.png\r\n",
      "3way_3_A.png                            helix_combination_details_A.png\r\n",
      "3way_4_A.png                            helix_details1_A.png\r\n",
      "3way_5_A.png                            helix_details2_A.png\r\n",
      "3way_6_A.png                            helix_details3_A.png\r\n",
      "3way_full_details_A.png                 helix_details4_A.png\r\n",
      "all_red_A.png                           helix_details5_A.png\r\n",
      "booquet_from_ct_A.png                   helix_details6_A.png\r\n",
      "booquet_from_pdb_0.png                  hide_purines_A.png\r\n",
      "booquet_from_rfam_AJ009730.1_1-133.png  hide_pyrimidines_A.png\r\n",
      "booquet_from_vienna_A.png               kotlin_powered_A.png\r\n",
      "dataset_A.png                           layout_explanation.png\r\n",
      "dataset_hide_A.png                      lines_A.png\r\n",
      "details_lvl1_A.png                      partially_detailed_A.png\r\n",
      "details_lvl2_A.png                      real_example_A.png\r\n",
      "details_lvl3_A.png                      real_example_A.svg\r\n",
      "details_lvl4_A.png                      several_types_A.png\r\n",
      "details_lvl5_A.png\r\n"
     ]
    }
   ],
   "source": [
    "ls media"
   ]
  },
  {
   "cell_type": "markdown",
   "metadata": {},
   "source": [
    "Viewing the result:"
   ]
  },
  {
   "cell_type": "code",
   "execution_count": 7,
   "metadata": {},
   "outputs": [
    {
     "data": {
      "image/svg+xml": [
       "<svg height=\"768.0\" width=\"1024.0\" xmlns=\"http://www.w3.org/2000/svg\">\n",
       "<line stroke=\"#404040\" stroke-width=\"1.8746371\" x1=\"377.96344539326134\" x2=\"367.5009424779806\" y1=\"660.8095873968584\" y2=\"645.6259358312396\"/><line stroke=\"#404040\" stroke-width=\"1.8746371\" x1=\"360.0552214161689\" x2=\"360.0552214161689\" y1=\"621.6979129522311\" y2=\"616.381087550753\"/><line stroke=\"#404040\" stroke-width=\"1.8746371\" x1=\"367.5009424779806\" x2=\"377.96344539326134\" y1=\"592.4530646717445\" y2=\"577.2694131061257\"/><line stroke=\"#404040\" stroke-width=\"1.8746371\" x1=\"443.5757448511054\" x2=\"450.2980912098068\" y1=\"577.2694131061257\" y2=\"585.6033411875436\"/><line stroke=\"#404040\" stroke-width=\"1.8746371\" x1=\"461.4805781646747\" x2=\"460.9387642161535\" y1=\"608.6051850002127\" y2=\"606.251489916825\"/><line stroke=\"#404040\" stroke-width=\"1.8746371\" x1=\"460.9387642161536\" x2=\"461.48057816467474\" y1=\"631.8275105861593\" y2=\"629.4738155027715\"/><line stroke=\"#404040\" stroke-width=\"1.8746371\" x1=\"450.2980912098068\" x2=\"443.5757448511054\" y1=\"652.4756593154406\" y2=\"660.8095873968584\"/><g><circle cx=\"360.0\" cy=\"634.5\" fill=\"#e557e5\" r=\"14\" stroke=\"#a03ca0\" stroke-width=\"1.8746371\"/><text style=\"fill:#ffffff;font-family:Arial;font-size:20;\" x=\"353.05522141305835\" y=\"641.3203723638522\">C</text></g><g><circle cx=\"360.0\" cy=\"603.5\" fill=\"#a0ecf5\" r=\"14\" stroke=\"#70a5ab\" stroke-width=\"1.8746371\"/><text style=\"fill:#000000;font-family:Arial;font-size:20;\" x=\"353.0552214130583\" y=\"609.7586271792366\">A</text></g><g><circle cx=\"458.5\" cy=\"595.5\" fill=\"#9157e5\" r=\"13\" stroke=\"#653ca0\" stroke-width=\"1.8746371\"/><text style=\"fill:#ffffff;font-family:Arial;font-size:20;\" x=\"451.03681436562556\" y=\"602.3171741855979\">U</text></g><g><circle cx=\"464.0\" cy=\"619.0\" fill=\"#006400\" r=\"14\" stroke=\"#004600\" stroke-width=\"1.8746371\"/><text style=\"fill:#ffffff;font-family:Arial;font-size:20;\" x=\"455.8825280089815\" y=\"625.5394997715443\">G</text></g><g><circle cx=\"458.5\" cy=\"642.5\" fill=\"#e557e5\" r=\"13\" stroke=\"#a03ca0\" stroke-width=\"1.8746371\"/><text style=\"fill:#ffffff;font-family:Arial;font-size:20;\" x=\"451.53681436562556\" y=\"648.7618253574909\">C</text></g><line stroke=\"#404040\" stroke-width=\"1.8746371\" x1=\"377.96344539326134\" x2=\"357.8537949314174\" y1=\"506.03320226618075\" y2=\"481.95966425624147\"/><line stroke=\"#404040\" stroke-width=\"1.8746371\" x1=\"349.44106490416203\" x2=\"349.44106490416203\" y1=\"458.7662100198053\" y2=\"440.5209592200672\"/><line stroke=\"#404040\" stroke-width=\"1.8746371\" x1=\"357.8537949314174\" x2=\"377.96344539326134\" y1=\"417.3275049836311\" y2=\"393.25396697369183\"/><line stroke=\"#404040\" stroke-width=\"1.8746371\" x1=\"443.5757448511054\" x2=\"442.0264792795376\" y1=\"393.25396697369183\" y2=\"392.16405175742995\"/><line stroke=\"#404040\" stroke-width=\"1.8746371\" x1=\"462.0380979972093\" x2=\"451.419688827754\" y1=\"408.9934909143657\" y2=\"398.3750817449104\"/><line stroke=\"#404040\" stroke-width=\"1.8746371\" x1=\"468.2491279846898\" x2=\"467.15921276842784\" y1=\"418.3867004625821\" y2=\"416.83743489101425\"/><line stroke=\"#404040\" stroke-width=\"1.8746371\" x1=\"467.15921276842784\" x2=\"468.2491279846897\" y1=\"482.4497343488583\" y2=\"480.9004687772906\"/><line stroke=\"#404040\" stroke-width=\"1.8746371\" x1=\"451.419688827754\" x2=\"462.0380979972093\" y1=\"500.91208749496224\" y2=\"490.293678325507\"/><line stroke=\"#404040\" stroke-width=\"1.8746371\" x1=\"442.0264792795376\" x2=\"443.5757448511054\" y1=\"507.1231174824427\" y2=\"506.03320226618075\"/><g><circle cx=\"349.5\" cy=\"472.0\" fill=\"#9157e5\" r=\"13\" stroke=\"#653ca0\" stroke-width=\"1.8746371\"/><text style=\"fill:#ffffff;font-family:Arial;font-size:20;\" x=\"341.9410649010515\" y=\"478.3886694314264\">U</text></g><g><circle cx=\"349.5\" cy=\"427.5\" fill=\"#a0ecf5\" r=\"13\" stroke=\"#70a5ab\" stroke-width=\"1.8746371\"/><text style=\"fill:#000000;font-family:Arial;font-size:20;\" x=\"342.4410649010515\" y=\"433.8984988485507\">A</text></g><g><circle cx=\"452.5\" cy=\"399.5\" fill=\"#a0ecf5\" r=\"13\" stroke=\"#70a5ab\" stroke-width=\"1.8746371\"/><text style=\"fill:#000000;font-family:Arial;font-size:20;\" x=\"445.7591176189219\" y=\"406.2145100592412\">A</text></g><g><circle cx=\"460.5\" cy=\"407.5\" fill=\"#a0ecf5\" r=\"13\" stroke=\"#70a5ab\" stroke-width=\"1.8746371\"/><text style=\"fill:#000000;font-family:Arial;font-size:20;\" x=\"453.69866919982024\" y=\"414.15406164013945\">A</text></g><g><circle cx=\"460.5\" cy=\"491.5\" fill=\"#a0ecf5\" r=\"13\" stroke=\"#70a5ab\" stroke-width=\"1.8746371\"/><text style=\"fill:#000000;font-family:Arial;font-size:20;\" x=\"453.69866919982024\" y=\"498.1331066398377\">A</text></g><g><circle cx=\"452.5\" cy=\"499.5\" fill=\"#e557e5\" r=\"13\" stroke=\"#a03ca0\" stroke-width=\"1.8746371\"/><text style=\"fill:#ffffff;font-family:Arial;font-size:20;\" x=\"445.7591176189219\" y=\"506.072658220736\">C</text></g><line stroke=\"#404040\" stroke-width=\"1.8746371\" x1=\"377.96344539326134\" x2=\"369.9482654979065\" y1=\"322.0177561337468\" y2=\"309.4815382002571\"/><line stroke=\"#404040\" stroke-width=\"1.8746371\" x1=\"362.87956064212875\" x2=\"362.87956064212875\" y1=\"285.3032036138603\" y2=\"283.54615179197395\"/><line stroke=\"#404040\" stroke-width=\"1.8746371\" x1=\"369.9482654979065\" x2=\"377.96344539326134\" y1=\"259.3678172055772\" y2=\"246.8315992720875\"/><line stroke=\"#404040\" stroke-width=\"1.8746371\" x1=\"443.5757448511054\" x2=\"451.59092474646025\" y1=\"246.8315992720875\" y2=\"259.3678172055772\"/><line stroke=\"#404040\" stroke-width=\"1.8746371\" x1=\"458.659629602238\" x2=\"458.659629602238\" y1=\"283.54615179197395\" y2=\"285.3032036138603\"/><line stroke=\"#404040\" stroke-width=\"1.8746371\" x1=\"451.59092474646025\" x2=\"443.5757448511054\" y1=\"309.4815382002571\" y2=\"322.0177561337468\"/><g><circle cx=\"363.0\" cy=\"298.5\" fill=\"#a0ecf5\" r=\"14\" stroke=\"#70a5ab\" stroke-width=\"1.8746371\"/><text style=\"fill:#000000;font-family:Arial;font-size:20;\" x=\"355.8795606390182\" y=\"304.9256630254814\">A</text></g><g><circle cx=\"363.0\" cy=\"270.5\" fill=\"#e557e5\" r=\"14\" stroke=\"#a03ca0\" stroke-width=\"1.8746371\"/><text style=\"fill:#ffffff;font-family:Arial;font-size:20;\" x=\"355.87956063901817\" y=\"276.92369142045743\">C</text></g><g><circle cx=\"458.5\" cy=\"270.5\" fill=\"#a0ecf5\" r=\"13\" stroke=\"#70a5ab\" stroke-width=\"1.8746371\"/><text style=\"fill:#000000;font-family:Arial;font-size:20;\" x=\"451.6596295991274\" y=\"276.92369142045743\">A</text></g><g><circle cx=\"458.5\" cy=\"298.5\" fill=\"#e557e5\" r=\"13\" stroke=\"#a03ca0\" stroke-width=\"1.8746371\"/><text style=\"fill:#ffffff;font-family:Arial;font-size:20;\" x=\"451.6596295991274\" y=\"304.9256630254814\">C</text></g><line stroke=\"#404040\" stroke-width=\"1.8746371\" x1=\"377.9634453932613\" x2=\"372.25801583711376\" y1=\"104.3591775921974\" y2=\"80.93516570570455\"/><line stroke=\"#404040\" stroke-width=\"1.8746371\" x1=\"377.25956674869064\" x2=\"384.0469239145381\" y1=\"57.86677839661672\" y2=\"49.22777538522439\"/><line stroke=\"#404040\" stroke-width=\"1.8746371\" x1=\"405.27640410221085\" x2=\"416.26278614215585\" y1=\"38.90909448481898\" y2=\"38.90909448481898\"/><line stroke=\"#404040\" stroke-width=\"1.8746371\" x1=\"437.49226632982857\" x2=\"444.2796234956761\" y1=\"49.22777538522439\" y2=\"57.86677839661672\"/><line stroke=\"#404040\" stroke-width=\"1.8746371\" x1=\"449.281174407253\" x2=\"443.5757448511054\" y1=\"80.93516570570455\" y2=\"104.3591775921974\"/><g><circle cx=\"369.5\" cy=\"68.5\" fill=\"#e557e5\" r=\"13\" stroke=\"#a03ca0\" stroke-width=\"1.8746371\"/><text style=\"fill:#ffffff;font-family:Arial;font-size:20;\" x=\"362.1525464494762\" y=\"74.68545881707439\">C</text></g><g><circle cx=\"392.5\" cy=\"39.0\" fill=\"#e557e5\" r=\"13\" stroke=\"#a03ca0\" stroke-width=\"1.8746371\"/><text style=\"fill:#ffffff;font-family:Arial;font-size:20;\" x=\"385.1539442075315\" y=\"45.409094004871235\">C</text></g><g><circle cx=\"429.5\" cy=\"39.0\" fill=\"#a0ecf5\" r=\"13\" stroke=\"#70a5ab\" stroke-width=\"1.8746371\"/><text style=\"fill:#000000;font-family:Arial;font-size:20;\" x=\"422.3852460306141\" y=\"45.409094004871235\">A</text></g><g><circle cx=\"452.5\" cy=\"68.5\" fill=\"#a0ecf5\" r=\"13\" stroke=\"#70a5ab\" stroke-width=\"1.8746371\"/><text style=\"fill:#000000;font-family:Arial;font-size:20;\" x=\"445.38664378866946\" y=\"74.68545881707439\">A</text></g><line stroke=\"#404040\" stroke-width=\"1.8746371\" x1=\"609.6316344483179\" x2=\"633.0556463348108\" y1=\"416.83743489101425\" y2=\"411.1320053348666\"/><line stroke=\"#404040\" stroke-width=\"1.8746371\" x1=\"656.1240336438987\" x2=\"664.763036655291\" y1=\"416.1335562464435\" y2=\"422.920913412291\"/><line stroke=\"#404040\" stroke-width=\"1.8746371\" x1=\"675.0817175556963\" x2=\"675.0817175556963\" y1=\"444.1503935999637\" y2=\"455.1367756399089\"/><line stroke=\"#404040\" stroke-width=\"1.8746371\" x1=\"664.7630366552909\" x2=\"656.1240336438987\" y1=\"476.3662558275816\" y2=\"483.15361299342896\"/><line stroke=\"#404040\" stroke-width=\"1.8746371\" x1=\"633.0556463348107\" x2=\"609.6316344483179\" y1=\"488.15516390500585\" y2=\"482.4497343488583\"/><g><circle cx=\"645.5\" cy=\"408.0\" fill=\"#e557e5\" r=\"13\" stroke=\"#a03ca0\" stroke-width=\"1.8746371\"/><text style=\"fill:#ffffff;font-family:Arial;font-size:20;\" x=\"638.8053527403827\" y=\"414.5265354703919\">C</text></g><g><circle cx=\"675.0\" cy=\"431.0\" fill=\"#006400\" r=\"14\" stroke=\"#004600\" stroke-width=\"1.8746371\"/><text style=\"fill:#ffffff;font-family:Arial;font-size:20;\" x=\"667.0817175525858\" y=\"437.5279332284472\">G</text></g><g><circle cx=\"675.0\" cy=\"468.5\" fill=\"#a0ecf5\" r=\"14\" stroke=\"#70a5ab\" stroke-width=\"1.8746371\"/><text style=\"fill:#000000;font-family:Arial;font-size:20;\" x=\"668.0817175525857\" y=\"474.75923505152997\">A</text></g><g><circle cx=\"645.5\" cy=\"491.5\" fill=\"#006400\" r=\"13\" stroke=\"#004600\" stroke-width=\"1.8746371\"/><text style=\"fill:#ffffff;font-family:Arial;font-size:20;\" x=\"637.8053527403827\" y=\"497.76063280958516\">G</text></g><line stroke=\"#404040\" stroke-width=\"1.8746371\" x1=\"377.96344539326134\" x2=\"377.96344539326134\" y1=\"718.9233383452346\" y2=\"709.5501527083998\"/><line stroke=\"#404040\" stroke-width=\"1.8746371\" x1=\"377.96344539326134\" x2=\"377.96344539326134\" y1=\"683.3052329252621\" y2=\"673.9320472884273\"/><line stroke=\"#404040\" stroke-width=\"1.8746371\" x1=\"443.5757448511054\" x2=\"443.5757448511054\" y1=\"673.9320472884273\" y2=\"683.3052329252621\"/><line stroke=\"#404040\" stroke-width=\"1.8746371\" x1=\"443.5757448511054\" x2=\"443.5757448511054\" y1=\"709.5501527083998\" y2=\"718.9233383452346\"/><line stroke=\"#404040\" stroke-width=\"1.8746371\" x1=\"394.8351795395641\" x2=\"426.70401070480267\" y1=\"726.7343263759303\" y2=\"726.7343263759303\"/><line stroke=\"#404040\" stroke-width=\"1.8746371\" x1=\"394.8351795395641\" x2=\"426.70401070480267\" y1=\"737.3572700976765\" y2=\"737.3572700976765\"/><g><circle cx=\"378.0\" cy=\"732.0\" fill=\"#e557e5\" r=\"14\" stroke=\"#a03ca0\" stroke-width=\"1.8746371\"/><text style=\"fill:#ffffff;font-family:Arial;font-size:20;\" x=\"370.96344539015075\" y=\"738.5457977568557\">C</text></g><g><circle cx=\"443.5\" cy=\"732.0\" fill=\"#006400\" r=\"13\" stroke=\"#004600\" stroke-width=\"1.8746371\"/><text style=\"fill:#ffffff;font-family:Arial;font-size:20;\" x=\"435.5757448479949\" y=\"738.5457977568557\">G</text></g><line stroke=\"#404040\" stroke-width=\"1.8746371\" x1=\"394.8351795395641\" x2=\"426.70401070480267\" y1=\"696.4276928168309\" y2=\"696.4276928168309\"/><g><circle cx=\"378.0\" cy=\"696.5\" fill=\"#a0ecf5\" r=\"14\" stroke=\"#70a5ab\" stroke-width=\"1.8746371\"/><text style=\"fill:#000000;font-family:Arial;font-size:20;\" x=\"370.96344539015075\" y=\"702.9276923368832\">A</text></g><g><circle cx=\"443.5\" cy=\"696.5\" fill=\"#9157e5\" r=\"13\" stroke=\"#653ca0\" stroke-width=\"1.8746371\"/><text style=\"fill:#ffffff;font-family:Arial;font-size:20;\" x=\"436.0757448479949\" y=\"702.9276923368832\">U</text></g><line stroke=\"#404040\" stroke-width=\"1.8746371\" x1=\"394.8351795395641\" x2=\"426.70401070480267\" y1=\"660.8095873968584\" y2=\"660.8095873968584\"/><g><circle cx=\"378.0\" cy=\"660.5\" fill=\"#a0ecf5\" r=\"14\" stroke=\"#70a5ab\" stroke-width=\"1.8746371\"/><text style=\"fill:#000000;font-family:Arial;font-size:20;\" x=\"370.96344539015075\" y=\"667.3095869169107\">A</text></g><g><circle cx=\"443.5\" cy=\"660.5\" fill=\"#9157e5\" r=\"13\" stroke=\"#653ca0\" stroke-width=\"1.8746371\"/><text style=\"fill:#ffffff;font-family:Arial;font-size:20;\" x=\"436.0757448479949\" y=\"667.3095869169107\">U</text></g><line stroke=\"#404040\" stroke-width=\"1.8746371\" x1=\"377.96344539326134\" x2=\"377.96344539326134\" y1=\"564.146953214557\" y2=\"554.7737675777221\"/><line stroke=\"#404040\" stroke-width=\"1.8746371\" x1=\"377.96344539326134\" x2=\"377.96344539326134\" y1=\"528.5288477945845\" y2=\"519.1556621577496\"/><line stroke=\"#404040\" stroke-width=\"1.8746371\" x1=\"443.5757448511054\" x2=\"443.5757448511054\" y1=\"519.1556621577496\" y2=\"528.5288477945845\"/><line stroke=\"#404040\" stroke-width=\"1.8746371\" x1=\"443.5757448511054\" x2=\"443.5757448511054\" y1=\"554.7737675777221\" y2=\"564.146953214557\"/><line stroke=\"#404040\" stroke-width=\"1.8746371\" x1=\"394.8351795395641\" x2=\"400.1466514004372\" y1=\"577.2694131061257\" y2=\"577.2694131061257\"/><circle cx=\"410.7695951221834\" cy=\"577.2694113364029\" fill=\"#404040\" r=\"10.622943721746196\" stroke=\"#404040\" stroke-width=\"1.8746371\"/><line stroke=\"#404040\" stroke-width=\"1.8746371\" x1=\"421.3925388439296\" x2=\"426.70401070480267\" y1=\"577.2694131061257\" y2=\"577.2694131061257\"/><g><circle cx=\"378.0\" cy=\"577.5\" fill=\"#9157e5\" r=\"14\" stroke=\"#653ca0\" stroke-width=\"1.8746371\"/><text style=\"fill:#ffffff;font-family:Arial;font-size:20;\" x=\"370.46344539015075\" y=\"583.7694126261781\">U</text></g><g><circle cx=\"443.5\" cy=\"577.5\" fill=\"#006400\" r=\"13\" stroke=\"#004600\" stroke-width=\"1.8746371\"/><text style=\"fill:#ffffff;font-family:Arial;font-size:20;\" x=\"435.5757448479949\" y=\"583.7694126261781\">G</text></g><line stroke=\"#404040\" stroke-width=\"1.8746371\" x1=\"394.8351795395641\" x2=\"426.70401070480267\" y1=\"546.9627795470263\" y2=\"546.9627795470263\"/><line stroke=\"#404040\" stroke-width=\"1.8746371\" x1=\"394.8351795395641\" x2=\"426.70401070480267\" y1=\"536.3398358252803\" y2=\"536.3398358252803\"/><g><circle cx=\"378.0\" cy=\"541.5\" fill=\"#e557e5\" r=\"14\" stroke=\"#a03ca0\" stroke-width=\"1.8746371\"/><text style=\"fill:#ffffff;font-family:Arial;font-size:20;\" x=\"370.96344539015075\" y=\"548.1513072062056\">C</text></g><g><circle cx=\"443.5\" cy=\"541.5\" fill=\"#006400\" r=\"13\" stroke=\"#004600\" stroke-width=\"1.8746371\"/><text style=\"fill:#ffffff;font-family:Arial;font-size:20;\" x=\"435.5757448479949\" y=\"548.1513072062056\">G</text></g><line stroke=\"#404040\" stroke-width=\"1.8746371\" x1=\"394.8351795395641\" x2=\"426.70401070480267\" y1=\"506.03320226618075\" y2=\"506.03320226618075\"/><g><circle cx=\"378.0\" cy=\"506.0\" fill=\"#a0ecf5\" r=\"14\" stroke=\"#70a5ab\" stroke-width=\"1.8746371\"/><text style=\"fill:#000000;font-family:Arial;font-size:20;\" x=\"370.96344539015075\" y=\"512.5332017862331\">A</text></g><g><circle cx=\"443.5\" cy=\"506.0\" fill=\"#9157e5\" r=\"13\" stroke=\"#653ca0\" stroke-width=\"1.8746371\"/><text style=\"fill:#ffffff;font-family:Arial;font-size:20;\" x=\"436.0757448479948\" y=\"512.5332017862331\">U</text></g><line stroke=\"#404040\" stroke-width=\"1.8746371\" x1=\"377.96344539326134\" x2=\"377.96344539326134\" y1=\"380.131507082123\" y2=\"370.7583214452881\"/><line stroke=\"#404040\" stroke-width=\"1.8746371\" x1=\"377.96344539326134\" x2=\"377.96344539326134\" y1=\"344.5134016621505\" y2=\"335.1402160253156\"/><line stroke=\"#404040\" stroke-width=\"1.8746371\" x1=\"443.5757448511054\" x2=\"443.5757448511054\" y1=\"335.1402160253156\" y2=\"344.5134016621505\"/><line stroke=\"#404040\" stroke-width=\"1.8746371\" x1=\"443.5757448511054\" x2=\"443.5757448511054\" y1=\"370.7583214452881\" y2=\"380.131507082123\"/><line stroke=\"#404040\" stroke-width=\"1.8746371\" x1=\"394.8351795395641\" x2=\"426.70401070480267\" y1=\"398.56543883456493\" y2=\"398.56543883456493\"/><line stroke=\"#404040\" stroke-width=\"1.8746371\" x1=\"394.8351795395641\" x2=\"426.70401070480267\" y1=\"387.94249511281873\" y2=\"387.94249511281873\"/><g><circle cx=\"378.0\" cy=\"393.5\" fill=\"#e557e5\" r=\"14\" stroke=\"#a03ca0\" stroke-width=\"1.8746371\"/><text style=\"fill:#ffffff;font-family:Arial;font-size:20;\" x=\"370.96344539015075\" y=\"399.7539664937441\">C</text></g><g><circle cx=\"443.5\" cy=\"393.5\" fill=\"#006400\" r=\"13\" stroke=\"#004600\" stroke-width=\"1.8746371\"/><text style=\"fill:#ffffff;font-family:Arial;font-size:20;\" x=\"435.5757448479948\" y=\"399.7539664937441\">G</text></g><line stroke=\"#404040\" stroke-width=\"1.8746371\" x1=\"394.8351795395641\" x2=\"426.70401070480267\" y1=\"362.94733341459244\" y2=\"362.94733341459244\"/><line stroke=\"#404040\" stroke-width=\"1.8746371\" x1=\"394.8351795395641\" x2=\"426.70401070480267\" y1=\"352.3243896928462\" y2=\"352.3243896928462\"/><g><circle cx=\"378.0\" cy=\"357.5\" fill=\"#006400\" r=\"14\" stroke=\"#004600\" stroke-width=\"1.8746371\"/><text style=\"fill:#ffffff;font-family:Arial;font-size:20;\" x=\"369.96344539015075\" y=\"364.1358610737716\">G</text></g><g><circle cx=\"443.5\" cy=\"357.5\" fill=\"#e557e5\" r=\"13\" stroke=\"#a03ca0\" stroke-width=\"1.8746371\"/><text style=\"fill:#ffffff;font-family:Arial;font-size:20;\" x=\"436.5757448479948\" y=\"364.1358610737716\">C</text></g><line stroke=\"#404040\" stroke-width=\"1.8746371\" x1=\"394.8351795395641\" x2=\"400.1466514004372\" y1=\"322.0177561337468\" y2=\"322.0177561337468\"/><circle cx=\"410.7695951221834\" cy=\"322.0177548353672\" fill=\"#404040\" r=\"10.622943721746196\" stroke=\"#404040\" stroke-width=\"1.8746371\"/><line stroke=\"#404040\" stroke-width=\"1.8746371\" x1=\"421.3925388439296\" x2=\"426.70401070480267\" y1=\"322.0177561337468\" y2=\"322.0177561337468\"/><g><circle cx=\"378.0\" cy=\"322.0\" fill=\"#9157e5\" r=\"14\" stroke=\"#653ca0\" stroke-width=\"1.8746371\"/><text style=\"fill:#ffffff;font-family:Arial;font-size:20;\" x=\"370.46344539015075\" y=\"328.5177556537991\">U</text></g><g><circle cx=\"443.5\" cy=\"322.0\" fill=\"#006400\" r=\"13\" stroke=\"#004600\" stroke-width=\"1.8746371\"/><text style=\"fill:#ffffff;font-family:Arial;font-size:20;\" x=\"435.5757448479948\" y=\"328.5177556537991\">G</text></g><line stroke=\"#404040\" stroke-width=\"1.8746371\" x1=\"377.96344539326134\" x2=\"377.96344539326134\" y1=\"233.70913938051865\" y2=\"224.33595374368377\"/><line stroke=\"#404040\" stroke-width=\"1.8746371\" x1=\"377.96344539326134\" x2=\"377.96344539326134\" y1=\"198.09103396054616\" y2=\"188.71784832371134\"/><line stroke=\"#404040\" stroke-width=\"1.8746371\" x1=\"377.96344539326134\" x2=\"377.96344539326134\" y1=\"162.47292854057366\" y2=\"153.09974290373873\"/><line stroke=\"#404040\" stroke-width=\"1.8746371\" x1=\"377.9634453932613\" x2=\"377.96344539326134\" y1=\"126.85482312060117\" y2=\"117.48163748376624\"/><line stroke=\"#404040\" stroke-width=\"1.8746371\" x1=\"443.5757448511054\" x2=\"443.5757448511054\" y1=\"117.48163748376624\" y2=\"126.85482312060117\"/><line stroke=\"#404040\" stroke-width=\"1.8746371\" x1=\"443.5757448511054\" x2=\"443.5757448511054\" y1=\"153.09974290373873\" y2=\"162.47292854057366\"/><line stroke=\"#404040\" stroke-width=\"1.8746371\" x1=\"443.5757448511054\" x2=\"443.5757448511054\" y1=\"188.71784832371134\" y2=\"198.09103396054616\"/><line stroke=\"#404040\" stroke-width=\"1.8746371\" x1=\"443.5757448511054\" x2=\"443.5757448511054\" y1=\"224.33595374368377\" y2=\"233.70913938051865\"/><line stroke=\"#404040\" stroke-width=\"1.8746371\" x1=\"394.8351795395641\" x2=\"426.70401070480267\" y1=\"246.8315992720875\" y2=\"246.8315992720875\"/><g><circle cx=\"378.0\" cy=\"246.5\" fill=\"#9157e5\" r=\"14\" stroke=\"#653ca0\" stroke-width=\"1.8746371\"/><text style=\"fill:#ffffff;font-family:Arial;font-size:20;\" x=\"370.46344539015075\" y=\"253.33159879213974\">U</text></g><g><circle cx=\"443.5\" cy=\"246.5\" fill=\"#a0ecf5\" r=\"13\" stroke=\"#70a5ab\" stroke-width=\"1.8746371\"/><text style=\"fill:#000000;font-family:Arial;font-size:20;\" x=\"436.5757448479948\" y=\"253.33159879213974\">A</text></g><line stroke=\"#404040\" stroke-width=\"1.8746371\" x1=\"394.8351795395641\" x2=\"400.1466514004372\" y1=\"211.213493852115\" y2=\"211.213493852115\"/><circle cx=\"410.7695951221834\" cy=\"211.21350240286162\" fill=\"#404040\" r=\"10.622943721746196\" stroke=\"#404040\" stroke-width=\"1.8746371\"/><line stroke=\"#404040\" stroke-width=\"1.8746371\" x1=\"421.3925388439296\" x2=\"426.70401070480267\" y1=\"211.213493852115\" y2=\"211.213493852115\"/><g><circle cx=\"378.0\" cy=\"211.5\" fill=\"#006400\" r=\"14\" stroke=\"#004600\" stroke-width=\"1.8746371\"/><text style=\"fill:#ffffff;font-family:Arial;font-size:20;\" x=\"369.96344539015075\" y=\"217.71349337216725\">G</text></g><g><circle cx=\"443.5\" cy=\"211.5\" fill=\"#9157e5\" r=\"13\" stroke=\"#653ca0\" stroke-width=\"1.8746371\"/><text style=\"fill:#ffffff;font-family:Arial;font-size:20;\" x=\"436.0757448479948\" y=\"217.71349337216725\">U</text></g><line stroke=\"#404040\" stroke-width=\"1.8746371\" x1=\"394.8351795395641\" x2=\"426.70401070480267\" y1=\"180.90686029301548\" y2=\"180.90686029301548\"/><line stroke=\"#404040\" stroke-width=\"1.8746371\" x1=\"394.8351795395641\" x2=\"426.70401070480267\" y1=\"170.2839165712694\" y2=\"170.2839165712694\"/><g><circle cx=\"378.0\" cy=\"175.5\" fill=\"#e557e5\" r=\"14\" stroke=\"#a03ca0\" stroke-width=\"1.8746371\"/><text style=\"fill:#ffffff;font-family:Arial;font-size:20;\" x=\"370.96344539015075\" y=\"182.09538795219476\">C</text></g><g><circle cx=\"443.5\" cy=\"175.5\" fill=\"#006400\" r=\"13\" stroke=\"#004600\" stroke-width=\"1.8746371\"/><text style=\"fill:#ffffff;font-family:Arial;font-size:20;\" x=\"435.5757448479948\" y=\"182.09538795219476\">G</text></g><line stroke=\"#404040\" stroke-width=\"1.8746371\" x1=\"394.8351795395641\" x2=\"426.70401070480267\" y1=\"145.288754873043\" y2=\"145.288754873043\"/><line stroke=\"#404040\" stroke-width=\"1.8746371\" x1=\"394.8351795395641\" x2=\"426.70401070480267\" y1=\"134.6658111512969\" y2=\"134.6658111512969\"/><g><circle cx=\"378.0\" cy=\"140.0\" fill=\"#006400\" r=\"14\" stroke=\"#004600\" stroke-width=\"1.8746371\"/><text style=\"fill:#ffffff;font-family:Arial;font-size:20;\" x=\"369.96344539015075\" y=\"146.47728253222226\">G</text></g><g><circle cx=\"443.5\" cy=\"140.0\" fill=\"#e557e5\" r=\"13\" stroke=\"#a03ca0\" stroke-width=\"1.8746371\"/><text style=\"fill:#ffffff;font-family:Arial;font-size:20;\" x=\"436.5757448479948\" y=\"146.47728253222226\">C</text></g><line stroke=\"#404040\" stroke-width=\"1.8746371\" x1=\"394.8351795395641\" x2=\"426.7040107048026\" y1=\"109.6706494530705\" y2=\"109.6706494530705\"/><line stroke=\"#404040\" stroke-width=\"1.8746371\" x1=\"394.8351795395641\" x2=\"426.7040107048026\" y1=\"99.04770573132441\" y2=\"99.04770573132441\"/><g><circle cx=\"378.0\" cy=\"104.5\" fill=\"#e557e5\" r=\"14\" stroke=\"#a03ca0\" stroke-width=\"1.8746371\"/><text style=\"fill:#ffffff;font-family:Arial;font-size:20;\" x=\"370.96344539015075\" y=\"110.85917711224977\">C</text></g><g><circle cx=\"443.5\" cy=\"104.5\" fill=\"#006400\" r=\"13\" stroke=\"#004600\" stroke-width=\"1.8746371\"/><text style=\"fill:#ffffff;font-family:Arial;font-size:20;\" x=\"435.5757448479948\" y=\"110.85917711224977\">G</text></g><line stroke=\"#404040\" stroke-width=\"1.8746371\" x1=\"480.2816726599967\" x2=\"489.65485829683155\" y1=\"416.83743489101425\" y2=\"416.83743489101425\"/><line stroke=\"#404040\" stroke-width=\"1.8746371\" x1=\"515.8997780799692\" x2=\"525.272963716804\" y1=\"416.83743489101425\" y2=\"416.83743489101425\"/><line stroke=\"#404040\" stroke-width=\"1.8746371\" x1=\"551.5178834999417\" x2=\"560.8910691367765\" y1=\"416.83743489101425\" y2=\"416.83743489101425\"/><line stroke=\"#404040\" stroke-width=\"1.8746371\" x1=\"587.1359889199142\" x2=\"596.509174556749\" y1=\"416.83743489101425\" y2=\"416.83743489101425\"/><line stroke=\"#404040\" stroke-width=\"1.8746371\" x1=\"596.509174556749\" x2=\"587.1359889199142\" y1=\"482.4497343488583\" y2=\"482.4497343488583\"/><line stroke=\"#404040\" stroke-width=\"1.8746371\" x1=\"560.8910691367765\" x2=\"551.5178834999417\" y1=\"482.4497343488583\" y2=\"482.4497343488583\"/><line stroke=\"#404040\" stroke-width=\"1.8746371\" x1=\"525.272963716804\" x2=\"515.8997780799692\" y1=\"482.4497343488583\" y2=\"482.4497343488583\"/><line stroke=\"#404040\" stroke-width=\"1.8746371\" x1=\"489.65485829683155\" x2=\"480.2816726599967\" y1=\"482.4497343488583\" y2=\"482.4497343488583\"/><line stroke=\"#404040\" stroke-width=\"1.8746371\" x1=\"461.8477409075548\" x2=\"461.8477409075548\" y1=\"433.709169037317\" y2=\"465.5780002025556\"/><line stroke=\"#404040\" stroke-width=\"1.8746371\" x1=\"472.47068462930093\" x2=\"472.47068462930093\" y1=\"433.709169037317\" y2=\"465.5780002025556\"/><g><circle cx=\"467.5\" cy=\"416.5\" fill=\"#e557e5\" r=\"13\" stroke=\"#a03ca0\" stroke-width=\"1.8746371\"/><text style=\"fill:#ffffff;font-family:Arial;font-size:20;\" x=\"460.1592127653173\" y=\"423.3374344110665\">C</text></g><g><circle cx=\"467.5\" cy=\"482.5\" fill=\"#006400\" r=\"13\" stroke=\"#004600\" stroke-width=\"1.8746371\"/><text style=\"fill:#ffffff;font-family:Arial;font-size:20;\" x=\"459.1592127653173\" y=\"488.94973386891064\">G</text></g><line stroke=\"#404040\" stroke-width=\"1.8746371\" x1=\"502.7773181884004\" x2=\"502.7773181884004\" y1=\"433.709169037317\" y2=\"465.5780002025556\"/><g><circle cx=\"502.5\" cy=\"416.5\" fill=\"#a0ecf5\" r=\"13\" stroke=\"#70a5ab\" stroke-width=\"1.8746371\"/><text style=\"fill:#000000;font-family:Arial;font-size:20;\" x=\"495.7773181852898\" y=\"423.3374344110665\">A</text></g><g><circle cx=\"502.5\" cy=\"482.5\" fill=\"#9157e5\" r=\"13\" stroke=\"#653ca0\" stroke-width=\"1.8746371\"/><text style=\"fill:#ffffff;font-family:Arial;font-size:20;\" x=\"495.2773181852898\" y=\"488.94973386891064\">U</text></g><line stroke=\"#404040\" stroke-width=\"1.8746371\" x1=\"533.0839517474998\" x2=\"533.0839517474998\" y1=\"433.709169037317\" y2=\"465.5780002025556\"/><line stroke=\"#404040\" stroke-width=\"1.8746371\" x1=\"543.706895469246\" x2=\"543.706895469246\" y1=\"433.709169037317\" y2=\"465.5780002025556\"/><g><circle cx=\"538.5\" cy=\"416.5\" fill=\"#e557e5\" r=\"13\" stroke=\"#a03ca0\" stroke-width=\"1.8746371\"/><text style=\"fill:#ffffff;font-family:Arial;font-size:20;\" x=\"531.3954236052623\" y=\"423.3374344110665\">C</text></g><g><circle cx=\"538.5\" cy=\"482.5\" fill=\"#006400\" r=\"13\" stroke=\"#004600\" stroke-width=\"1.8746371\"/><text style=\"fill:#ffffff;font-family:Arial;font-size:20;\" x=\"530.3954236052623\" y=\"488.94973386891064\">G</text></g><line stroke=\"#404040\" stroke-width=\"1.8746371\" x1=\"568.7020571674723\" x2=\"568.7020571674723\" y1=\"433.709169037317\" y2=\"465.5780002025556\"/><line stroke=\"#404040\" stroke-width=\"1.8746371\" x1=\"579.3250008892185\" x2=\"579.3250008892185\" y1=\"433.709169037317\" y2=\"465.5780002025556\"/><g><circle cx=\"574.0\" cy=\"416.5\" fill=\"#e557e5\" r=\"14\" stroke=\"#a03ca0\" stroke-width=\"1.8746371\"/><text style=\"fill:#ffffff;font-family:Arial;font-size:20;\" x=\"567.0135290252348\" y=\"423.3374344110665\">C</text></g><g><circle cx=\"574.0\" cy=\"482.5\" fill=\"#006400\" r=\"14\" stroke=\"#004600\" stroke-width=\"1.8746371\"/><text style=\"fill:#ffffff;font-family:Arial;font-size:20;\" x=\"566.0135290252348\" y=\"488.94973386891064\">G</text></g><line stroke=\"#404040\" stroke-width=\"1.8746371\" x1=\"609.6316344483179\" x2=\"609.6316344483179\" y1=\"433.709169037317\" y2=\"465.5780002025556\"/><g><circle cx=\"609.5\" cy=\"416.5\" fill=\"#a0ecf5\" r=\"13\" stroke=\"#70a5ab\" stroke-width=\"1.8746371\"/><text style=\"fill:#000000;font-family:Arial;font-size:20;\" x=\"602.6316344452073\" y=\"423.3374344110665\">A</text></g><g><circle cx=\"609.5\" cy=\"482.5\" fill=\"#9157e5\" r=\"13\" stroke=\"#653ca0\" stroke-width=\"1.8746371\"/><text style=\"fill:#ffffff;font-family:Arial;font-size:20;\" x=\"602.1316344452073\" y=\"488.94973386891064\">U</text></g></svg>"
      ],
      "text/plain": [
       "<IPython.core.display.SVG object>"
      ]
     },
     "execution_count": 7,
     "metadata": {},
     "output_type": "execute_result"
    }
   ],
   "source": [
    "from IPython.core.display import SVG #<-- this line only needs to be run once per notebook\n",
    "SVG(filename='media/real_example_A.svg')"
   ]
  },
  {
   "cell_type": "markdown",
   "metadata": {},
   "source": [
    "### First example currently in the documentation.\n",
    "\n",
    "This will run the script that currently is shown at the very top of the directions. This needs a PDB file that isn't present yet. That will be fetched first and then the rest of the process is much as above."
   ]
  },
  {
   "cell_type": "code",
   "execution_count": 9,
   "metadata": {},
   "outputs": [
    {
     "name": "stdout",
     "output_type": "stream",
     "text": [
      "  % Total    % Received % Xferd  Average Speed   Time    Time     Time  Current\n",
      "                                 Dload  Upload   Total   Spent    Left  Speed\n",
      "100  223k    0  223k    0     0   141k      0 --:--:--  0:00:01 --:--:--  141k\n"
     ]
    }
   ],
   "source": [
    "!curl -OL https://files.rcsb.org/download/1ehz.pdb # see https://nbviewer.jupyter.org/github/fomightez/Python_basics_on_PDB_file/blob/master/index.ipynb for more information on that curl command\n",
    "!mv 1ehz.pdb media/."
   ]
  },
  {
   "cell_type": "code",
   "execution_count": 10,
   "metadata": {},
   "outputs": [
    {
     "name": "stdout",
     "output_type": "stream",
     "text": [
      "Dockerfile      LICENSE  pom.xml    rnartistcore_docker.sh  \u001b[0m\u001b[01;34mscripts\u001b[0m/  \u001b[01;34mtarget\u001b[0m/\r\n",
      "first_demo.kts  \u001b[01;34mmedia\u001b[0m/   README.md  \u001b[01;34msamples\u001b[0m/                \u001b[01;34msrc\u001b[0m/      \u001b[01;34mtest\u001b[0m/\r\n"
     ]
    }
   ],
   "source": [
    "ls"
   ]
  },
  {
   "cell_type": "code",
   "execution_count": 25,
   "metadata": {},
   "outputs": [],
   "source": [
    "z = '''import io.github.fjossinet.rnartist.core.*\n",
    "\n",
    "rnartist {\n",
    "  file = \"media/another_example.svg\"\n",
    "  ss {\n",
    "    rna {\n",
    "      sequence = \"CAACAUCAUACGUACUGCGCCCAAGCGUAACGCGAACACCACGAGUGGUGACUGGUGCUUG\"\n",
    "    }\n",
    "    bracket_notation =\n",
    "      \"(((..(((..(((..(((((....)))))..)))..(((((....)))))..)))...)))\"\n",
    "  }\n",
    "  theme {\n",
    "    details_lvl = 5\n",
    "\n",
    "    color {\n",
    "      type=\"A\"\n",
    "      value = \"#A0ECF5\"\n",
    "    }\n",
    "\n",
    "    color {\n",
    "      type=\"a\"\n",
    "      value = \"black\"\n",
    "    }\n",
    "\n",
    "    color {\n",
    "      type=\"U\"\n",
    "      value = \"#9157E5\"\n",
    "    }\n",
    "\n",
    "    color {\n",
    "      type=\"G\"\n",
    "      value = \"darkgreen\"\n",
    "    }\n",
    "\n",
    "    color {\n",
    "      type=\"C\"\n",
    "      value = \"#E557E5\"\n",
    "    }\n",
    "\n",
    "  }\n",
    "\n",
    "\n",
    "  rnartist {\n",
    "    file = \"media/example2.svg\"\n",
    "    \n",
    "    ss {\n",
    "        pdb {\n",
    "            file = \"media/1ehz.pdb\"\n",
    "        }    \n",
    "    }\n",
    "  }\n",
    "}'''"
   ]
  },
  {
   "cell_type": "code",
   "execution_count": 26,
   "metadata": {},
   "outputs": [
    {
     "name": "stdout",
     "output_type": "stream",
     "text": [
      "Writing 'z' (str) to file 'second_demo.kts'.\n"
     ]
    }
   ],
   "source": [
    "%store z >second_demo.kts"
   ]
  },
  {
   "cell_type": "code",
   "execution_count": 27,
   "metadata": {},
   "outputs": [
    {
     "name": "stderr",
     "output_type": "stream",
     "text": [
      "WARNING: An illegal reflective access operation has occurred\n",
      "WARNING: Illegal reflective access by org.jetbrains.kotlin.com.intellij.util.ReflectionUtil (file:/home/jovyan/RNArtistCore/target/rnartistcore-0.2.7-SNAPSHOT-jar-with-dependencies.jar) to method java.util.ResourceBundle.setParent(java.util.ResourceBundle)\n",
      "WARNING: Please consider reporting this to the maintainers of org.jetbrains.kotlin.com.intellij.util.ReflectionUtil\n",
      "WARNING: Use --illegal-access=warn to enable warnings of further illegal reflective access operations\n",
      "WARNING: All illegal access operations will be denied in a future release\n",
      "java.io.FileNotFoundException: /home/jovyan/RNArtistCore/media/1ehz.pdb.xml (No such file or directory)\n",
      "\tat java.base/java.io.FileInputStream.open0(Native Method)\n",
      "\tat java.base/java.io.FileInputStream.open(FileInputStream.java:219)\n",
      "\tat java.base/java.io.FileInputStream.<init>(FileInputStream.java:157)\n",
      "\tat java.base/java.io.FileInputStream.<init>(FileInputStream.java:112)\n",
      "\tat java.base/sun.net.www.protocol.file.FileURLConnection.connect(FileURLConnection.java:86)\n",
      "\tat java.base/sun.net.www.protocol.file.FileURLConnection.getInputStream(FileURLConnection.java:184)\n",
      "\tat java.xml/com.sun.org.apache.xerces.internal.impl.XMLEntityManager.setupCurrentEntity(XMLEntityManager.java:652)\n",
      "\tat java.xml/com.sun.org.apache.xerces.internal.impl.XMLVersionDetector.determineDocVersion(XMLVersionDetector.java:150)\n",
      "\tat java.xml/com.sun.org.apache.xerces.internal.parsers.XML11Configuration.parse(XML11Configuration.java:860)\n",
      "\tat java.xml/com.sun.org.apache.xerces.internal.parsers.XML11Configuration.parse(XML11Configuration.java:824)\n",
      "\tat java.xml/com.sun.org.apache.xerces.internal.parsers.XMLParser.parse(XMLParser.java:141)\n",
      "\tat java.xml/com.sun.org.apache.xerces.internal.parsers.AbstractSAXParser.parse(AbstractSAXParser.java:1216)\n",
      "\tat java.xml/com.sun.org.apache.xerces.internal.jaxp.SAXParserImpl$JAXPSAXParser.parse(SAXParserImpl.java:635)\n",
      "\tat org.jdom2.input.sax.SAXBuilderEngine.build(SAXBuilderEngine.java:217)\n",
      "\tat org.jdom2.input.sax.SAXBuilderEngine.build(SAXBuilderEngine.java:277)\n",
      "\tat org.jdom2.input.sax.SAXBuilderEngine.build(SAXBuilderEngine.java:264)\n",
      "\tat org.jdom2.input.SAXBuilder.build(SAXBuilder.java:1116)\n",
      "\tat io.github.fjossinet.rnartist.core.model.io.ParsersKt.parseRnaml(parsers.kt:23)\n",
      "\tat io.github.fjossinet.rnartist.core.model.io.Rnaview.annotate(Rnaview.kt:89)\n",
      "\tat io.github.fjossinet.rnartist.core.PDBBuilder.build(builders.kt:115)\n",
      "\tat io.github.fjossinet.rnartist.core.SecondaryStructureBuilder.pdb(builders.kt:84)\n",
      "\tat ScriptingHost771a660_Line_1$1$3$1.invoke(ScriptingHost771a660_Line_1.kts:49)\n",
      "\tat ScriptingHost771a660_Line_1$1$3$1.invoke(ScriptingHost771a660_Line_1.kts:3)\n",
      "\tat io.github.fjossinet.rnartist.core.RNArtistBuilder.ss(builders.kt:288)\n",
      "\tat ScriptingHost771a660_Line_1$1$3.invoke(ScriptingHost771a660_Line_1.kts:48)\n",
      "\tat ScriptingHost771a660_Line_1$1$3.invoke(ScriptingHost771a660_Line_1.kts:3)\n",
      "\tat io.github.fjossinet.rnartist.core.BuildersKt.rnartist(builders.kt:1215)\n",
      "\tat ScriptingHost771a660_Line_1$1.invoke(ScriptingHost771a660_Line_1.kts:45)\n",
      "\tat ScriptingHost771a660_Line_1$1.invoke(ScriptingHost771a660_Line_1.kts:3)\n",
      "\tat io.github.fjossinet.rnartist.core.BuildersKt.rnartist(builders.kt:1215)\n",
      "\tat ScriptingHost771a660_Line_1.<init>(ScriptingHost771a660_Line_1.kts:5)\n",
      "\tat java.base/jdk.internal.reflect.NativeConstructorAccessorImpl.newInstance0(Native Method)\n",
      "\tat java.base/jdk.internal.reflect.NativeConstructorAccessorImpl.newInstance(NativeConstructorAccessorImpl.java:62)\n",
      "\tat java.base/jdk.internal.reflect.DelegatingConstructorAccessorImpl.newInstance(DelegatingConstructorAccessorImpl.java:45)\n",
      "\tat java.base/java.lang.reflect.Constructor.newInstance(Constructor.java:490)\n",
      "\tat kotlin.script.experimental.jvm.BasicJvmScriptEvaluator.evalWithConfigAndOtherScriptsResults(BasicJvmScriptEvaluator.kt:96)\n",
      "\tat kotlin.script.experimental.jvm.BasicJvmScriptEvaluator.invoke$suspendImpl(BasicJvmScriptEvaluator.kt:41)\n",
      "\tat kotlin.script.experimental.jvm.BasicJvmScriptEvaluator.invoke(BasicJvmScriptEvaluator.kt)\n",
      "\tat kotlin.script.experimental.jvmhost.repl.JvmReplEvaluator$eval$1$res$1.invokeSuspend(legacyReplEvaluation.kt:63)\n",
      "\tat kotlin.coroutines.jvm.internal.BaseContinuationImpl.resumeWith(ContinuationImpl.kt:33)\n",
      "\tat kotlinx.coroutines.DispatchedTask.run(DispatchedTask.kt:56)\n",
      "\tat kotlinx.coroutines.EventLoopImplBase.processNextEvent(EventLoop.common.kt:274)\n",
      "\tat kotlinx.coroutines.BlockingCoroutine.joinBlocking(Builders.kt:84)\n",
      "\tat kotlinx.coroutines.BuildersKt__BuildersKt.runBlocking(Builders.kt:59)\n",
      "\tat kotlinx.coroutines.BuildersKt.runBlocking(Unknown Source)\n",
      "\tat kotlinx.coroutines.BuildersKt__BuildersKt.runBlocking$default(Builders.kt:38)\n",
      "\tat kotlinx.coroutines.BuildersKt.runBlocking$default(Unknown Source)\n",
      "\tat kotlin.script.experimental.jvmhost.repl.JvmReplEvaluator.eval(legacyReplEvaluation.kt:63)\n",
      "\tat org.jetbrains.kotlin.cli.common.repl.GenericReplCompilingEvaluatorBase.eval(GenericReplCompilingEvaluator.kt:76)\n",
      "\tat org.jetbrains.kotlin.cli.common.repl.GenericReplCompilingEvaluatorBase.compileAndEval(GenericReplCompilingEvaluator.kt:51)\n",
      "\tat org.jetbrains.kotlin.cli.common.repl.KotlinJsr223JvmScriptEngineBase$compileAndEval$1.invoke(KotlinJsr223JvmScriptEngineBase.kt:64)\n",
      "\tat org.jetbrains.kotlin.cli.common.repl.KotlinJsr223JvmScriptEngineBase$compileAndEval$1.invoke(KotlinJsr223JvmScriptEngineBase.kt:63)\n",
      "\tat org.jetbrains.kotlin.cli.common.repl.KotlinJsr223JvmScriptEngineBase.asJsr223EvalResult(KotlinJsr223JvmScriptEngineBase.kt:90)\n",
      "\tat org.jetbrains.kotlin.cli.common.repl.KotlinJsr223JvmScriptEngineBase.compileAndEval(KotlinJsr223JvmScriptEngineBase.kt:63)\n",
      "\tat kotlin.script.experimental.jvmhost.jsr223.KotlinJsr223ScriptEngineImpl.compileAndEval(KotlinJsr223ScriptEngineImpl.kt:94)\n",
      "\tat org.jetbrains.kotlin.cli.common.repl.KotlinJsr223JvmScriptEngineBase.eval(KotlinJsr223JvmScriptEngineBase.kt:31)\n",
      "\tat java.scripting/javax.script.AbstractScriptEngine.eval(AbstractScriptEngine.java:264)\n",
      "\tat io.github.fjossinet.rnartist.core.MainKt.main(Main.kt:13)\n"
     ]
    }
   ],
   "source": [
    "%%bash\n",
    "java -jar target/rnartistcore-0.2.7-SNAPSHOT-jar-with-dependencies.jar second_demo.kts"
   ]
  },
  {
   "cell_type": "markdown",
   "metadata": {},
   "source": [
    "View the two files that should have been made:"
   ]
  },
  {
   "cell_type": "code",
   "execution_count": 28,
   "metadata": {},
   "outputs": [
    {
     "name": "stdout",
     "output_type": "stream",
     "text": [
      "1ehz.pdb                                details_lvl5_A.png\r\n",
      "1ehz.pdb.out                            details_lvl5_colored_A.png\r\n",
      "3way_1_A.png                            example_A.svg\r\n",
      "3way_2_A.png                            gradient_A.png\r\n",
      "3way_3_A.png                            helix_combination_details_A.png\r\n",
      "3way_4_A.png                            helix_details1_A.png\r\n",
      "3way_5_A.png                            helix_details2_A.png\r\n",
      "3way_6_A.png                            helix_details3_A.png\r\n",
      "3way_full_details_A.png                 helix_details4_A.png\r\n",
      "all_red_A.png                           helix_details5_A.png\r\n",
      "another_example_A.svg                   helix_details6_A.png\r\n",
      "booquet_from_ct_A.png                   hide_purines_A.png\r\n",
      "booquet_from_pdb_0.png                  hide_pyrimidines_A.png\r\n",
      "booquet_from_rfam_AJ009730.1_1-133.png  kotlin_powered_A.png\r\n",
      "booquet_from_vienna_A.png               layout_explanation.png\r\n",
      "dataset_A.png                           lines_A.png\r\n",
      "dataset_hide_A.png                      partially_detailed_A.png\r\n",
      "details_lvl1_A.png                      real_example_A.png\r\n",
      "details_lvl2_A.png                      real_example_A.svg\r\n",
      "details_lvl3_A.png                      several_types_A.png\r\n",
      "details_lvl4_A.png\r\n"
     ]
    }
   ],
   "source": [
    "ls media"
   ]
  },
  {
   "cell_type": "code",
   "execution_count": 29,
   "metadata": {},
   "outputs": [
    {
     "data": {
      "image/svg+xml": [
       "<svg height=\"768.0\" width=\"1024.0\" xmlns=\"http://www.w3.org/2000/svg\">\n",
       "<line stroke=\"#404040\" stroke-width=\"1.8746371\" x1=\"377.96344539326134\" x2=\"367.5009424779806\" y1=\"660.8095873968584\" y2=\"645.6259358312396\"/><line stroke=\"#404040\" stroke-width=\"1.8746371\" x1=\"360.0552214161689\" x2=\"360.0552214161689\" y1=\"621.6979129522311\" y2=\"616.381087550753\"/><line stroke=\"#404040\" stroke-width=\"1.8746371\" x1=\"367.5009424779806\" x2=\"377.96344539326134\" y1=\"592.4530646717445\" y2=\"577.2694131061257\"/><line stroke=\"#404040\" stroke-width=\"1.8746371\" x1=\"443.5757448511054\" x2=\"450.2980912098068\" y1=\"577.2694131061257\" y2=\"585.6033411875436\"/><line stroke=\"#404040\" stroke-width=\"1.8746371\" x1=\"461.4805781646747\" x2=\"460.9387642161535\" y1=\"608.6051850002127\" y2=\"606.251489916825\"/><line stroke=\"#404040\" stroke-width=\"1.8746371\" x1=\"460.9387642161536\" x2=\"461.48057816467474\" y1=\"631.8275105861593\" y2=\"629.4738155027715\"/><line stroke=\"#404040\" stroke-width=\"1.8746371\" x1=\"450.2980912098068\" x2=\"443.5757448511054\" y1=\"652.4756593154406\" y2=\"660.8095873968584\"/><g><circle cx=\"360.0\" cy=\"634.5\" fill=\"#e557e5\" r=\"14\" stroke=\"#a03ca0\" stroke-width=\"1.8746371\"/><text style=\"fill:#ffffff;font-family:Arial;font-size:20;\" x=\"353.05522141305835\" y=\"641.3203723638522\">C</text></g><g><circle cx=\"360.0\" cy=\"603.5\" fill=\"#a0ecf5\" r=\"14\" stroke=\"#70a5ab\" stroke-width=\"1.8746371\"/><text style=\"fill:#000000;font-family:Arial;font-size:20;\" x=\"353.0552214130583\" y=\"609.7586271792366\">A</text></g><g><circle cx=\"458.5\" cy=\"595.5\" fill=\"#9157e5\" r=\"13\" stroke=\"#653ca0\" stroke-width=\"1.8746371\"/><text style=\"fill:#ffffff;font-family:Arial;font-size:20;\" x=\"451.03681436562556\" y=\"602.3171741855979\">U</text></g><g><circle cx=\"464.0\" cy=\"619.0\" fill=\"#006400\" r=\"14\" stroke=\"#004600\" stroke-width=\"1.8746371\"/><text style=\"fill:#ffffff;font-family:Arial;font-size:20;\" x=\"455.8825280089815\" y=\"625.5394997715443\">G</text></g><g><circle cx=\"458.5\" cy=\"642.5\" fill=\"#e557e5\" r=\"13\" stroke=\"#a03ca0\" stroke-width=\"1.8746371\"/><text style=\"fill:#ffffff;font-family:Arial;font-size:20;\" x=\"451.53681436562556\" y=\"648.7618253574909\">C</text></g><line stroke=\"#404040\" stroke-width=\"1.8746371\" x1=\"377.96344539326134\" x2=\"357.8537949314174\" y1=\"506.03320226618075\" y2=\"481.95966425624147\"/><line stroke=\"#404040\" stroke-width=\"1.8746371\" x1=\"349.44106490416203\" x2=\"349.44106490416203\" y1=\"458.7662100198053\" y2=\"440.5209592200672\"/><line stroke=\"#404040\" stroke-width=\"1.8746371\" x1=\"357.8537949314174\" x2=\"377.96344539326134\" y1=\"417.3275049836311\" y2=\"393.25396697369183\"/><line stroke=\"#404040\" stroke-width=\"1.8746371\" x1=\"443.5757448511054\" x2=\"442.0264792795376\" y1=\"393.25396697369183\" y2=\"392.16405175742995\"/><line stroke=\"#404040\" stroke-width=\"1.8746371\" x1=\"462.0380979972093\" x2=\"451.419688827754\" y1=\"408.9934909143657\" y2=\"398.3750817449104\"/><line stroke=\"#404040\" stroke-width=\"1.8746371\" x1=\"468.2491279846898\" x2=\"467.15921276842784\" y1=\"418.3867004625821\" y2=\"416.83743489101425\"/><line stroke=\"#404040\" stroke-width=\"1.8746371\" x1=\"467.15921276842784\" x2=\"468.2491279846897\" y1=\"482.4497343488583\" y2=\"480.9004687772906\"/><line stroke=\"#404040\" stroke-width=\"1.8746371\" x1=\"451.419688827754\" x2=\"462.0380979972093\" y1=\"500.91208749496224\" y2=\"490.293678325507\"/><line stroke=\"#404040\" stroke-width=\"1.8746371\" x1=\"442.0264792795376\" x2=\"443.5757448511054\" y1=\"507.1231174824427\" y2=\"506.03320226618075\"/><g><circle cx=\"349.5\" cy=\"472.0\" fill=\"#9157e5\" r=\"13\" stroke=\"#653ca0\" stroke-width=\"1.8746371\"/><text style=\"fill:#ffffff;font-family:Arial;font-size:20;\" x=\"341.9410649010515\" y=\"478.3886694314264\">U</text></g><g><circle cx=\"349.5\" cy=\"427.5\" fill=\"#a0ecf5\" r=\"13\" stroke=\"#70a5ab\" stroke-width=\"1.8746371\"/><text style=\"fill:#000000;font-family:Arial;font-size:20;\" x=\"342.4410649010515\" y=\"433.8984988485507\">A</text></g><g><circle cx=\"452.5\" cy=\"399.5\" fill=\"#a0ecf5\" r=\"13\" stroke=\"#70a5ab\" stroke-width=\"1.8746371\"/><text style=\"fill:#000000;font-family:Arial;font-size:20;\" x=\"445.7591176189219\" y=\"406.2145100592412\">A</text></g><g><circle cx=\"460.5\" cy=\"407.5\" fill=\"#a0ecf5\" r=\"13\" stroke=\"#70a5ab\" stroke-width=\"1.8746371\"/><text style=\"fill:#000000;font-family:Arial;font-size:20;\" x=\"453.69866919982024\" y=\"414.15406164013945\">A</text></g><g><circle cx=\"460.5\" cy=\"491.5\" fill=\"#a0ecf5\" r=\"13\" stroke=\"#70a5ab\" stroke-width=\"1.8746371\"/><text style=\"fill:#000000;font-family:Arial;font-size:20;\" x=\"453.69866919982024\" y=\"498.1331066398377\">A</text></g><g><circle cx=\"452.5\" cy=\"499.5\" fill=\"#e557e5\" r=\"13\" stroke=\"#a03ca0\" stroke-width=\"1.8746371\"/><text style=\"fill:#ffffff;font-family:Arial;font-size:20;\" x=\"445.7591176189219\" y=\"506.072658220736\">C</text></g><line stroke=\"#404040\" stroke-width=\"1.8746371\" x1=\"377.96344539326134\" x2=\"369.9482654979065\" y1=\"322.0177561337468\" y2=\"309.4815382002571\"/><line stroke=\"#404040\" stroke-width=\"1.8746371\" x1=\"362.87956064212875\" x2=\"362.87956064212875\" y1=\"285.3032036138603\" y2=\"283.54615179197395\"/><line stroke=\"#404040\" stroke-width=\"1.8746371\" x1=\"369.9482654979065\" x2=\"377.96344539326134\" y1=\"259.3678172055772\" y2=\"246.8315992720875\"/><line stroke=\"#404040\" stroke-width=\"1.8746371\" x1=\"443.5757448511054\" x2=\"451.59092474646025\" y1=\"246.8315992720875\" y2=\"259.3678172055772\"/><line stroke=\"#404040\" stroke-width=\"1.8746371\" x1=\"458.659629602238\" x2=\"458.659629602238\" y1=\"283.54615179197395\" y2=\"285.3032036138603\"/><line stroke=\"#404040\" stroke-width=\"1.8746371\" x1=\"451.59092474646025\" x2=\"443.5757448511054\" y1=\"309.4815382002571\" y2=\"322.0177561337468\"/><g><circle cx=\"363.0\" cy=\"298.5\" fill=\"#a0ecf5\" r=\"14\" stroke=\"#70a5ab\" stroke-width=\"1.8746371\"/><text style=\"fill:#000000;font-family:Arial;font-size:20;\" x=\"355.8795606390182\" y=\"304.9256630254814\">A</text></g><g><circle cx=\"363.0\" cy=\"270.5\" fill=\"#e557e5\" r=\"14\" stroke=\"#a03ca0\" stroke-width=\"1.8746371\"/><text style=\"fill:#ffffff;font-family:Arial;font-size:20;\" x=\"355.87956063901817\" y=\"276.92369142045743\">C</text></g><g><circle cx=\"458.5\" cy=\"270.5\" fill=\"#a0ecf5\" r=\"13\" stroke=\"#70a5ab\" stroke-width=\"1.8746371\"/><text style=\"fill:#000000;font-family:Arial;font-size:20;\" x=\"451.6596295991274\" y=\"276.92369142045743\">A</text></g><g><circle cx=\"458.5\" cy=\"298.5\" fill=\"#e557e5\" r=\"13\" stroke=\"#a03ca0\" stroke-width=\"1.8746371\"/><text style=\"fill:#ffffff;font-family:Arial;font-size:20;\" x=\"451.6596295991274\" y=\"304.9256630254814\">C</text></g><line stroke=\"#404040\" stroke-width=\"1.8746371\" x1=\"377.9634453932613\" x2=\"372.25801583711376\" y1=\"104.3591775921974\" y2=\"80.93516570570455\"/><line stroke=\"#404040\" stroke-width=\"1.8746371\" x1=\"377.25956674869064\" x2=\"384.0469239145381\" y1=\"57.86677839661672\" y2=\"49.22777538522439\"/><line stroke=\"#404040\" stroke-width=\"1.8746371\" x1=\"405.27640410221085\" x2=\"416.26278614215585\" y1=\"38.90909448481898\" y2=\"38.90909448481898\"/><line stroke=\"#404040\" stroke-width=\"1.8746371\" x1=\"437.49226632982857\" x2=\"444.2796234956761\" y1=\"49.22777538522439\" y2=\"57.86677839661672\"/><line stroke=\"#404040\" stroke-width=\"1.8746371\" x1=\"449.281174407253\" x2=\"443.5757448511054\" y1=\"80.93516570570455\" y2=\"104.3591775921974\"/><g><circle cx=\"369.5\" cy=\"68.5\" fill=\"#e557e5\" r=\"13\" stroke=\"#a03ca0\" stroke-width=\"1.8746371\"/><text style=\"fill:#ffffff;font-family:Arial;font-size:20;\" x=\"362.1525464494762\" y=\"74.68545881707439\">C</text></g><g><circle cx=\"392.5\" cy=\"39.0\" fill=\"#e557e5\" r=\"13\" stroke=\"#a03ca0\" stroke-width=\"1.8746371\"/><text style=\"fill:#ffffff;font-family:Arial;font-size:20;\" x=\"385.1539442075315\" y=\"45.409094004871235\">C</text></g><g><circle cx=\"429.5\" cy=\"39.0\" fill=\"#a0ecf5\" r=\"13\" stroke=\"#70a5ab\" stroke-width=\"1.8746371\"/><text style=\"fill:#000000;font-family:Arial;font-size:20;\" x=\"422.3852460306141\" y=\"45.409094004871235\">A</text></g><g><circle cx=\"452.5\" cy=\"68.5\" fill=\"#a0ecf5\" r=\"13\" stroke=\"#70a5ab\" stroke-width=\"1.8746371\"/><text style=\"fill:#000000;font-family:Arial;font-size:20;\" x=\"445.38664378866946\" y=\"74.68545881707439\">A</text></g><line stroke=\"#404040\" stroke-width=\"1.8746371\" x1=\"609.6316344483179\" x2=\"633.0556463348108\" y1=\"416.83743489101425\" y2=\"411.1320053348666\"/><line stroke=\"#404040\" stroke-width=\"1.8746371\" x1=\"656.1240336438987\" x2=\"664.763036655291\" y1=\"416.1335562464435\" y2=\"422.920913412291\"/><line stroke=\"#404040\" stroke-width=\"1.8746371\" x1=\"675.0817175556963\" x2=\"675.0817175556963\" y1=\"444.1503935999637\" y2=\"455.1367756399089\"/><line stroke=\"#404040\" stroke-width=\"1.8746371\" x1=\"664.7630366552909\" x2=\"656.1240336438987\" y1=\"476.3662558275816\" y2=\"483.15361299342896\"/><line stroke=\"#404040\" stroke-width=\"1.8746371\" x1=\"633.0556463348107\" x2=\"609.6316344483179\" y1=\"488.15516390500585\" y2=\"482.4497343488583\"/><g><circle cx=\"645.5\" cy=\"408.0\" fill=\"#e557e5\" r=\"13\" stroke=\"#a03ca0\" stroke-width=\"1.8746371\"/><text style=\"fill:#ffffff;font-family:Arial;font-size:20;\" x=\"638.8053527403827\" y=\"414.5265354703919\">C</text></g><g><circle cx=\"675.0\" cy=\"431.0\" fill=\"#006400\" r=\"14\" stroke=\"#004600\" stroke-width=\"1.8746371\"/><text style=\"fill:#ffffff;font-family:Arial;font-size:20;\" x=\"667.0817175525858\" y=\"437.5279332284472\">G</text></g><g><circle cx=\"675.0\" cy=\"468.5\" fill=\"#a0ecf5\" r=\"14\" stroke=\"#70a5ab\" stroke-width=\"1.8746371\"/><text style=\"fill:#000000;font-family:Arial;font-size:20;\" x=\"668.0817175525857\" y=\"474.75923505152997\">A</text></g><g><circle cx=\"645.5\" cy=\"491.5\" fill=\"#006400\" r=\"13\" stroke=\"#004600\" stroke-width=\"1.8746371\"/><text style=\"fill:#ffffff;font-family:Arial;font-size:20;\" x=\"637.8053527403827\" y=\"497.76063280958516\">G</text></g><line stroke=\"#404040\" stroke-width=\"1.8746371\" x1=\"377.96344539326134\" x2=\"377.96344539326134\" y1=\"718.9233383452346\" y2=\"709.5501527083998\"/><line stroke=\"#404040\" stroke-width=\"1.8746371\" x1=\"377.96344539326134\" x2=\"377.96344539326134\" y1=\"683.3052329252621\" y2=\"673.9320472884273\"/><line stroke=\"#404040\" stroke-width=\"1.8746371\" x1=\"443.5757448511054\" x2=\"443.5757448511054\" y1=\"673.9320472884273\" y2=\"683.3052329252621\"/><line stroke=\"#404040\" stroke-width=\"1.8746371\" x1=\"443.5757448511054\" x2=\"443.5757448511054\" y1=\"709.5501527083998\" y2=\"718.9233383452346\"/><line stroke=\"#404040\" stroke-width=\"1.8746371\" x1=\"394.8351795395641\" x2=\"426.70401070480267\" y1=\"726.7343263759303\" y2=\"726.7343263759303\"/><line stroke=\"#404040\" stroke-width=\"1.8746371\" x1=\"394.8351795395641\" x2=\"426.70401070480267\" y1=\"737.3572700976765\" y2=\"737.3572700976765\"/><g><circle cx=\"378.0\" cy=\"732.0\" fill=\"#e557e5\" r=\"14\" stroke=\"#a03ca0\" stroke-width=\"1.8746371\"/><text style=\"fill:#ffffff;font-family:Arial;font-size:20;\" x=\"370.96344539015075\" y=\"738.5457977568557\">C</text></g><g><circle cx=\"443.5\" cy=\"732.0\" fill=\"#006400\" r=\"13\" stroke=\"#004600\" stroke-width=\"1.8746371\"/><text style=\"fill:#ffffff;font-family:Arial;font-size:20;\" x=\"435.5757448479949\" y=\"738.5457977568557\">G</text></g><line stroke=\"#404040\" stroke-width=\"1.8746371\" x1=\"394.8351795395641\" x2=\"426.70401070480267\" y1=\"696.4276928168309\" y2=\"696.4276928168309\"/><g><circle cx=\"378.0\" cy=\"696.5\" fill=\"#a0ecf5\" r=\"14\" stroke=\"#70a5ab\" stroke-width=\"1.8746371\"/><text style=\"fill:#000000;font-family:Arial;font-size:20;\" x=\"370.96344539015075\" y=\"702.9276923368832\">A</text></g><g><circle cx=\"443.5\" cy=\"696.5\" fill=\"#9157e5\" r=\"13\" stroke=\"#653ca0\" stroke-width=\"1.8746371\"/><text style=\"fill:#ffffff;font-family:Arial;font-size:20;\" x=\"436.0757448479949\" y=\"702.9276923368832\">U</text></g><line stroke=\"#404040\" stroke-width=\"1.8746371\" x1=\"394.8351795395641\" x2=\"426.70401070480267\" y1=\"660.8095873968584\" y2=\"660.8095873968584\"/><g><circle cx=\"378.0\" cy=\"660.5\" fill=\"#a0ecf5\" r=\"14\" stroke=\"#70a5ab\" stroke-width=\"1.8746371\"/><text style=\"fill:#000000;font-family:Arial;font-size:20;\" x=\"370.96344539015075\" y=\"667.3095869169107\">A</text></g><g><circle cx=\"443.5\" cy=\"660.5\" fill=\"#9157e5\" r=\"13\" stroke=\"#653ca0\" stroke-width=\"1.8746371\"/><text style=\"fill:#ffffff;font-family:Arial;font-size:20;\" x=\"436.0757448479949\" y=\"667.3095869169107\">U</text></g><line stroke=\"#404040\" stroke-width=\"1.8746371\" x1=\"377.96344539326134\" x2=\"377.96344539326134\" y1=\"564.146953214557\" y2=\"554.7737675777221\"/><line stroke=\"#404040\" stroke-width=\"1.8746371\" x1=\"377.96344539326134\" x2=\"377.96344539326134\" y1=\"528.5288477945845\" y2=\"519.1556621577496\"/><line stroke=\"#404040\" stroke-width=\"1.8746371\" x1=\"443.5757448511054\" x2=\"443.5757448511054\" y1=\"519.1556621577496\" y2=\"528.5288477945845\"/><line stroke=\"#404040\" stroke-width=\"1.8746371\" x1=\"443.5757448511054\" x2=\"443.5757448511054\" y1=\"554.7737675777221\" y2=\"564.146953214557\"/><line stroke=\"#404040\" stroke-width=\"1.8746371\" x1=\"394.8351795395641\" x2=\"400.1466514004372\" y1=\"577.2694131061257\" y2=\"577.2694131061257\"/><circle cx=\"410.7695951221834\" cy=\"577.2694113364029\" fill=\"#404040\" r=\"10.622943721746196\" stroke=\"#404040\" stroke-width=\"1.8746371\"/><line stroke=\"#404040\" stroke-width=\"1.8746371\" x1=\"421.3925388439296\" x2=\"426.70401070480267\" y1=\"577.2694131061257\" y2=\"577.2694131061257\"/><g><circle cx=\"378.0\" cy=\"577.5\" fill=\"#9157e5\" r=\"14\" stroke=\"#653ca0\" stroke-width=\"1.8746371\"/><text style=\"fill:#ffffff;font-family:Arial;font-size:20;\" x=\"370.46344539015075\" y=\"583.7694126261781\">U</text></g><g><circle cx=\"443.5\" cy=\"577.5\" fill=\"#006400\" r=\"13\" stroke=\"#004600\" stroke-width=\"1.8746371\"/><text style=\"fill:#ffffff;font-family:Arial;font-size:20;\" x=\"435.5757448479949\" y=\"583.7694126261781\">G</text></g><line stroke=\"#404040\" stroke-width=\"1.8746371\" x1=\"394.8351795395641\" x2=\"426.70401070480267\" y1=\"546.9627795470263\" y2=\"546.9627795470263\"/><line stroke=\"#404040\" stroke-width=\"1.8746371\" x1=\"394.8351795395641\" x2=\"426.70401070480267\" y1=\"536.3398358252803\" y2=\"536.3398358252803\"/><g><circle cx=\"378.0\" cy=\"541.5\" fill=\"#e557e5\" r=\"14\" stroke=\"#a03ca0\" stroke-width=\"1.8746371\"/><text style=\"fill:#ffffff;font-family:Arial;font-size:20;\" x=\"370.96344539015075\" y=\"548.1513072062056\">C</text></g><g><circle cx=\"443.5\" cy=\"541.5\" fill=\"#006400\" r=\"13\" stroke=\"#004600\" stroke-width=\"1.8746371\"/><text style=\"fill:#ffffff;font-family:Arial;font-size:20;\" x=\"435.5757448479949\" y=\"548.1513072062056\">G</text></g><line stroke=\"#404040\" stroke-width=\"1.8746371\" x1=\"394.8351795395641\" x2=\"426.70401070480267\" y1=\"506.03320226618075\" y2=\"506.03320226618075\"/><g><circle cx=\"378.0\" cy=\"506.0\" fill=\"#a0ecf5\" r=\"14\" stroke=\"#70a5ab\" stroke-width=\"1.8746371\"/><text style=\"fill:#000000;font-family:Arial;font-size:20;\" x=\"370.96344539015075\" y=\"512.5332017862331\">A</text></g><g><circle cx=\"443.5\" cy=\"506.0\" fill=\"#9157e5\" r=\"13\" stroke=\"#653ca0\" stroke-width=\"1.8746371\"/><text style=\"fill:#ffffff;font-family:Arial;font-size:20;\" x=\"436.0757448479948\" y=\"512.5332017862331\">U</text></g><line stroke=\"#404040\" stroke-width=\"1.8746371\" x1=\"377.96344539326134\" x2=\"377.96344539326134\" y1=\"380.131507082123\" y2=\"370.7583214452881\"/><line stroke=\"#404040\" stroke-width=\"1.8746371\" x1=\"377.96344539326134\" x2=\"377.96344539326134\" y1=\"344.5134016621505\" y2=\"335.1402160253156\"/><line stroke=\"#404040\" stroke-width=\"1.8746371\" x1=\"443.5757448511054\" x2=\"443.5757448511054\" y1=\"335.1402160253156\" y2=\"344.5134016621505\"/><line stroke=\"#404040\" stroke-width=\"1.8746371\" x1=\"443.5757448511054\" x2=\"443.5757448511054\" y1=\"370.7583214452881\" y2=\"380.131507082123\"/><line stroke=\"#404040\" stroke-width=\"1.8746371\" x1=\"394.8351795395641\" x2=\"426.70401070480267\" y1=\"398.56543883456493\" y2=\"398.56543883456493\"/><line stroke=\"#404040\" stroke-width=\"1.8746371\" x1=\"394.8351795395641\" x2=\"426.70401070480267\" y1=\"387.94249511281873\" y2=\"387.94249511281873\"/><g><circle cx=\"378.0\" cy=\"393.5\" fill=\"#e557e5\" r=\"14\" stroke=\"#a03ca0\" stroke-width=\"1.8746371\"/><text style=\"fill:#ffffff;font-family:Arial;font-size:20;\" x=\"370.96344539015075\" y=\"399.7539664937441\">C</text></g><g><circle cx=\"443.5\" cy=\"393.5\" fill=\"#006400\" r=\"13\" stroke=\"#004600\" stroke-width=\"1.8746371\"/><text style=\"fill:#ffffff;font-family:Arial;font-size:20;\" x=\"435.5757448479948\" y=\"399.7539664937441\">G</text></g><line stroke=\"#404040\" stroke-width=\"1.8746371\" x1=\"394.8351795395641\" x2=\"426.70401070480267\" y1=\"362.94733341459244\" y2=\"362.94733341459244\"/><line stroke=\"#404040\" stroke-width=\"1.8746371\" x1=\"394.8351795395641\" x2=\"426.70401070480267\" y1=\"352.3243896928462\" y2=\"352.3243896928462\"/><g><circle cx=\"378.0\" cy=\"357.5\" fill=\"#006400\" r=\"14\" stroke=\"#004600\" stroke-width=\"1.8746371\"/><text style=\"fill:#ffffff;font-family:Arial;font-size:20;\" x=\"369.96344539015075\" y=\"364.1358610737716\">G</text></g><g><circle cx=\"443.5\" cy=\"357.5\" fill=\"#e557e5\" r=\"13\" stroke=\"#a03ca0\" stroke-width=\"1.8746371\"/><text style=\"fill:#ffffff;font-family:Arial;font-size:20;\" x=\"436.5757448479948\" y=\"364.1358610737716\">C</text></g><line stroke=\"#404040\" stroke-width=\"1.8746371\" x1=\"394.8351795395641\" x2=\"400.1466514004372\" y1=\"322.0177561337468\" y2=\"322.0177561337468\"/><circle cx=\"410.7695951221834\" cy=\"322.0177548353672\" fill=\"#404040\" r=\"10.622943721746196\" stroke=\"#404040\" stroke-width=\"1.8746371\"/><line stroke=\"#404040\" stroke-width=\"1.8746371\" x1=\"421.3925388439296\" x2=\"426.70401070480267\" y1=\"322.0177561337468\" y2=\"322.0177561337468\"/><g><circle cx=\"378.0\" cy=\"322.0\" fill=\"#9157e5\" r=\"14\" stroke=\"#653ca0\" stroke-width=\"1.8746371\"/><text style=\"fill:#ffffff;font-family:Arial;font-size:20;\" x=\"370.46344539015075\" y=\"328.5177556537991\">U</text></g><g><circle cx=\"443.5\" cy=\"322.0\" fill=\"#006400\" r=\"13\" stroke=\"#004600\" stroke-width=\"1.8746371\"/><text style=\"fill:#ffffff;font-family:Arial;font-size:20;\" x=\"435.5757448479948\" y=\"328.5177556537991\">G</text></g><line stroke=\"#404040\" stroke-width=\"1.8746371\" x1=\"377.96344539326134\" x2=\"377.96344539326134\" y1=\"233.70913938051865\" y2=\"224.33595374368377\"/><line stroke=\"#404040\" stroke-width=\"1.8746371\" x1=\"377.96344539326134\" x2=\"377.96344539326134\" y1=\"198.09103396054616\" y2=\"188.71784832371134\"/><line stroke=\"#404040\" stroke-width=\"1.8746371\" x1=\"377.96344539326134\" x2=\"377.96344539326134\" y1=\"162.47292854057366\" y2=\"153.09974290373873\"/><line stroke=\"#404040\" stroke-width=\"1.8746371\" x1=\"377.9634453932613\" x2=\"377.96344539326134\" y1=\"126.85482312060117\" y2=\"117.48163748376624\"/><line stroke=\"#404040\" stroke-width=\"1.8746371\" x1=\"443.5757448511054\" x2=\"443.5757448511054\" y1=\"117.48163748376624\" y2=\"126.85482312060117\"/><line stroke=\"#404040\" stroke-width=\"1.8746371\" x1=\"443.5757448511054\" x2=\"443.5757448511054\" y1=\"153.09974290373873\" y2=\"162.47292854057366\"/><line stroke=\"#404040\" stroke-width=\"1.8746371\" x1=\"443.5757448511054\" x2=\"443.5757448511054\" y1=\"188.71784832371134\" y2=\"198.09103396054616\"/><line stroke=\"#404040\" stroke-width=\"1.8746371\" x1=\"443.5757448511054\" x2=\"443.5757448511054\" y1=\"224.33595374368377\" y2=\"233.70913938051865\"/><line stroke=\"#404040\" stroke-width=\"1.8746371\" x1=\"394.8351795395641\" x2=\"426.70401070480267\" y1=\"246.8315992720875\" y2=\"246.8315992720875\"/><g><circle cx=\"378.0\" cy=\"246.5\" fill=\"#9157e5\" r=\"14\" stroke=\"#653ca0\" stroke-width=\"1.8746371\"/><text style=\"fill:#ffffff;font-family:Arial;font-size:20;\" x=\"370.46344539015075\" y=\"253.33159879213974\">U</text></g><g><circle cx=\"443.5\" cy=\"246.5\" fill=\"#a0ecf5\" r=\"13\" stroke=\"#70a5ab\" stroke-width=\"1.8746371\"/><text style=\"fill:#000000;font-family:Arial;font-size:20;\" x=\"436.5757448479948\" y=\"253.33159879213974\">A</text></g><line stroke=\"#404040\" stroke-width=\"1.8746371\" x1=\"394.8351795395641\" x2=\"400.1466514004372\" y1=\"211.213493852115\" y2=\"211.213493852115\"/><circle cx=\"410.7695951221834\" cy=\"211.21350240286162\" fill=\"#404040\" r=\"10.622943721746196\" stroke=\"#404040\" stroke-width=\"1.8746371\"/><line stroke=\"#404040\" stroke-width=\"1.8746371\" x1=\"421.3925388439296\" x2=\"426.70401070480267\" y1=\"211.213493852115\" y2=\"211.213493852115\"/><g><circle cx=\"378.0\" cy=\"211.5\" fill=\"#006400\" r=\"14\" stroke=\"#004600\" stroke-width=\"1.8746371\"/><text style=\"fill:#ffffff;font-family:Arial;font-size:20;\" x=\"369.96344539015075\" y=\"217.71349337216725\">G</text></g><g><circle cx=\"443.5\" cy=\"211.5\" fill=\"#9157e5\" r=\"13\" stroke=\"#653ca0\" stroke-width=\"1.8746371\"/><text style=\"fill:#ffffff;font-family:Arial;font-size:20;\" x=\"436.0757448479948\" y=\"217.71349337216725\">U</text></g><line stroke=\"#404040\" stroke-width=\"1.8746371\" x1=\"394.8351795395641\" x2=\"426.70401070480267\" y1=\"180.90686029301548\" y2=\"180.90686029301548\"/><line stroke=\"#404040\" stroke-width=\"1.8746371\" x1=\"394.8351795395641\" x2=\"426.70401070480267\" y1=\"170.2839165712694\" y2=\"170.2839165712694\"/><g><circle cx=\"378.0\" cy=\"175.5\" fill=\"#e557e5\" r=\"14\" stroke=\"#a03ca0\" stroke-width=\"1.8746371\"/><text style=\"fill:#ffffff;font-family:Arial;font-size:20;\" x=\"370.96344539015075\" y=\"182.09538795219476\">C</text></g><g><circle cx=\"443.5\" cy=\"175.5\" fill=\"#006400\" r=\"13\" stroke=\"#004600\" stroke-width=\"1.8746371\"/><text style=\"fill:#ffffff;font-family:Arial;font-size:20;\" x=\"435.5757448479948\" y=\"182.09538795219476\">G</text></g><line stroke=\"#404040\" stroke-width=\"1.8746371\" x1=\"394.8351795395641\" x2=\"426.70401070480267\" y1=\"145.288754873043\" y2=\"145.288754873043\"/><line stroke=\"#404040\" stroke-width=\"1.8746371\" x1=\"394.8351795395641\" x2=\"426.70401070480267\" y1=\"134.6658111512969\" y2=\"134.6658111512969\"/><g><circle cx=\"378.0\" cy=\"140.0\" fill=\"#006400\" r=\"14\" stroke=\"#004600\" stroke-width=\"1.8746371\"/><text style=\"fill:#ffffff;font-family:Arial;font-size:20;\" x=\"369.96344539015075\" y=\"146.47728253222226\">G</text></g><g><circle cx=\"443.5\" cy=\"140.0\" fill=\"#e557e5\" r=\"13\" stroke=\"#a03ca0\" stroke-width=\"1.8746371\"/><text style=\"fill:#ffffff;font-family:Arial;font-size:20;\" x=\"436.5757448479948\" y=\"146.47728253222226\">C</text></g><line stroke=\"#404040\" stroke-width=\"1.8746371\" x1=\"394.8351795395641\" x2=\"426.7040107048026\" y1=\"109.6706494530705\" y2=\"109.6706494530705\"/><line stroke=\"#404040\" stroke-width=\"1.8746371\" x1=\"394.8351795395641\" x2=\"426.7040107048026\" y1=\"99.04770573132441\" y2=\"99.04770573132441\"/><g><circle cx=\"378.0\" cy=\"104.5\" fill=\"#e557e5\" r=\"14\" stroke=\"#a03ca0\" stroke-width=\"1.8746371\"/><text style=\"fill:#ffffff;font-family:Arial;font-size:20;\" x=\"370.96344539015075\" y=\"110.85917711224977\">C</text></g><g><circle cx=\"443.5\" cy=\"104.5\" fill=\"#006400\" r=\"13\" stroke=\"#004600\" stroke-width=\"1.8746371\"/><text style=\"fill:#ffffff;font-family:Arial;font-size:20;\" x=\"435.5757448479948\" y=\"110.85917711224977\">G</text></g><line stroke=\"#404040\" stroke-width=\"1.8746371\" x1=\"480.2816726599967\" x2=\"489.65485829683155\" y1=\"416.83743489101425\" y2=\"416.83743489101425\"/><line stroke=\"#404040\" stroke-width=\"1.8746371\" x1=\"515.8997780799692\" x2=\"525.272963716804\" y1=\"416.83743489101425\" y2=\"416.83743489101425\"/><line stroke=\"#404040\" stroke-width=\"1.8746371\" x1=\"551.5178834999417\" x2=\"560.8910691367765\" y1=\"416.83743489101425\" y2=\"416.83743489101425\"/><line stroke=\"#404040\" stroke-width=\"1.8746371\" x1=\"587.1359889199142\" x2=\"596.509174556749\" y1=\"416.83743489101425\" y2=\"416.83743489101425\"/><line stroke=\"#404040\" stroke-width=\"1.8746371\" x1=\"596.509174556749\" x2=\"587.1359889199142\" y1=\"482.4497343488583\" y2=\"482.4497343488583\"/><line stroke=\"#404040\" stroke-width=\"1.8746371\" x1=\"560.8910691367765\" x2=\"551.5178834999417\" y1=\"482.4497343488583\" y2=\"482.4497343488583\"/><line stroke=\"#404040\" stroke-width=\"1.8746371\" x1=\"525.272963716804\" x2=\"515.8997780799692\" y1=\"482.4497343488583\" y2=\"482.4497343488583\"/><line stroke=\"#404040\" stroke-width=\"1.8746371\" x1=\"489.65485829683155\" x2=\"480.2816726599967\" y1=\"482.4497343488583\" y2=\"482.4497343488583\"/><line stroke=\"#404040\" stroke-width=\"1.8746371\" x1=\"461.8477409075548\" x2=\"461.8477409075548\" y1=\"433.709169037317\" y2=\"465.5780002025556\"/><line stroke=\"#404040\" stroke-width=\"1.8746371\" x1=\"472.47068462930093\" x2=\"472.47068462930093\" y1=\"433.709169037317\" y2=\"465.5780002025556\"/><g><circle cx=\"467.5\" cy=\"416.5\" fill=\"#e557e5\" r=\"13\" stroke=\"#a03ca0\" stroke-width=\"1.8746371\"/><text style=\"fill:#ffffff;font-family:Arial;font-size:20;\" x=\"460.1592127653173\" y=\"423.3374344110665\">C</text></g><g><circle cx=\"467.5\" cy=\"482.5\" fill=\"#006400\" r=\"13\" stroke=\"#004600\" stroke-width=\"1.8746371\"/><text style=\"fill:#ffffff;font-family:Arial;font-size:20;\" x=\"459.1592127653173\" y=\"488.94973386891064\">G</text></g><line stroke=\"#404040\" stroke-width=\"1.8746371\" x1=\"502.7773181884004\" x2=\"502.7773181884004\" y1=\"433.709169037317\" y2=\"465.5780002025556\"/><g><circle cx=\"502.5\" cy=\"416.5\" fill=\"#a0ecf5\" r=\"13\" stroke=\"#70a5ab\" stroke-width=\"1.8746371\"/><text style=\"fill:#000000;font-family:Arial;font-size:20;\" x=\"495.7773181852898\" y=\"423.3374344110665\">A</text></g><g><circle cx=\"502.5\" cy=\"482.5\" fill=\"#9157e5\" r=\"13\" stroke=\"#653ca0\" stroke-width=\"1.8746371\"/><text style=\"fill:#ffffff;font-family:Arial;font-size:20;\" x=\"495.2773181852898\" y=\"488.94973386891064\">U</text></g><line stroke=\"#404040\" stroke-width=\"1.8746371\" x1=\"533.0839517474998\" x2=\"533.0839517474998\" y1=\"433.709169037317\" y2=\"465.5780002025556\"/><line stroke=\"#404040\" stroke-width=\"1.8746371\" x1=\"543.706895469246\" x2=\"543.706895469246\" y1=\"433.709169037317\" y2=\"465.5780002025556\"/><g><circle cx=\"538.5\" cy=\"416.5\" fill=\"#e557e5\" r=\"13\" stroke=\"#a03ca0\" stroke-width=\"1.8746371\"/><text style=\"fill:#ffffff;font-family:Arial;font-size:20;\" x=\"531.3954236052623\" y=\"423.3374344110665\">C</text></g><g><circle cx=\"538.5\" cy=\"482.5\" fill=\"#006400\" r=\"13\" stroke=\"#004600\" stroke-width=\"1.8746371\"/><text style=\"fill:#ffffff;font-family:Arial;font-size:20;\" x=\"530.3954236052623\" y=\"488.94973386891064\">G</text></g><line stroke=\"#404040\" stroke-width=\"1.8746371\" x1=\"568.7020571674723\" x2=\"568.7020571674723\" y1=\"433.709169037317\" y2=\"465.5780002025556\"/><line stroke=\"#404040\" stroke-width=\"1.8746371\" x1=\"579.3250008892185\" x2=\"579.3250008892185\" y1=\"433.709169037317\" y2=\"465.5780002025556\"/><g><circle cx=\"574.0\" cy=\"416.5\" fill=\"#e557e5\" r=\"14\" stroke=\"#a03ca0\" stroke-width=\"1.8746371\"/><text style=\"fill:#ffffff;font-family:Arial;font-size:20;\" x=\"567.0135290252348\" y=\"423.3374344110665\">C</text></g><g><circle cx=\"574.0\" cy=\"482.5\" fill=\"#006400\" r=\"14\" stroke=\"#004600\" stroke-width=\"1.8746371\"/><text style=\"fill:#ffffff;font-family:Arial;font-size:20;\" x=\"566.0135290252348\" y=\"488.94973386891064\">G</text></g><line stroke=\"#404040\" stroke-width=\"1.8746371\" x1=\"609.6316344483179\" x2=\"609.6316344483179\" y1=\"433.709169037317\" y2=\"465.5780002025556\"/><g><circle cx=\"609.5\" cy=\"416.5\" fill=\"#a0ecf5\" r=\"13\" stroke=\"#70a5ab\" stroke-width=\"1.8746371\"/><text style=\"fill:#000000;font-family:Arial;font-size:20;\" x=\"602.6316344452073\" y=\"423.3374344110665\">A</text></g><g><circle cx=\"609.5\" cy=\"482.5\" fill=\"#9157e5\" r=\"13\" stroke=\"#653ca0\" stroke-width=\"1.8746371\"/><text style=\"fill:#ffffff;font-family:Arial;font-size:20;\" x=\"602.1316344452073\" y=\"488.94973386891064\">U</text></g></svg>"
      ],
      "text/plain": [
       "<IPython.core.display.SVG object>"
      ]
     },
     "execution_count": 29,
     "metadata": {},
     "output_type": "execute_result"
    }
   ],
   "source": [
    "from IPython.core.display import SVG #<-- this line only needs to be run once per notebook\n",
    "SVG(filename='media/another_example_A.svg')"
   ]
  },
  {
   "cell_type": "code",
   "execution_count": null,
   "metadata": {},
   "outputs": [],
   "source": [
    "from IPython.core.display import SVG #<-- this line only needs to be run once per notebook\n",
    "SVG(filename='example2.svg')"
   ]
  },
  {
   "cell_type": "code",
   "execution_count": 6,
   "metadata": {},
   "outputs": [
    {
     "name": "stdout",
     "output_type": "stream",
     "text": [
      "\u001b[0m\u001b[01;34mBASEPARS\u001b[0m/  \u001b[01;34mbin\u001b[0m/  \u001b[01;34mdoc\u001b[0m/  \u001b[01;34minclude\u001b[0m/  Makefile  \u001b[01;34mobj\u001b[0m/  README  \u001b[01;34mrnaml2ps\u001b[0m/  \u001b[01;34msrc\u001b[0m/  \u001b[01;34mtest\u001b[0m/\r\n"
     ]
    }
   ],
   "source": []
  },
  {
   "cell_type": "code",
   "execution_count": null,
   "metadata": {},
   "outputs": [],
   "source": []
  }
 ],
 "metadata": {
  "kernelspec": {
   "display_name": "Python 3",
   "language": "python",
   "name": "python3"
  },
  "language_info": {
   "codemirror_mode": {
    "name": "ipython",
    "version": 3
   },
   "file_extension": ".py",
   "mimetype": "text/x-python",
   "name": "python",
   "nbconvert_exporter": "python",
   "pygments_lexer": "ipython3",
   "version": "3.8.5"
  }
 },
 "nbformat": 4,
 "nbformat_minor": 5
}
